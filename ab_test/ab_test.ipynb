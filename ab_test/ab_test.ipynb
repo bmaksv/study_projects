{
 "cells": [
  {
   "cell_type": "markdown",
   "metadata": {
    "toc": true
   },
   "source": [
    "<h1>Оглавление<span class=\"tocSkip\"></span></h1>\n",
    "<div class=\"toc\"><ul class=\"toc-item\"><li><span><a href=\"#Изучение-общей-информации\" data-toc-modified-id=\"Изучение-общей-информации-1\"><span class=\"toc-item-num\">1&nbsp;&nbsp;</span>Изучение общей информации</a></span></li><li><span><a href=\"#Предобработка-данных\" data-toc-modified-id=\"Предобработка-данных-2\"><span class=\"toc-item-num\">2&nbsp;&nbsp;</span>Предобработка данных</a></span></li><li><span><a href=\"#Приоретизация-гипотез\" data-toc-modified-id=\"Приоретизация-гипотез-3\"><span class=\"toc-item-num\">3&nbsp;&nbsp;</span>Приоретизация гипотез</a></span><ul class=\"toc-item\"><li><span><a href=\"#Метод-ICE\" data-toc-modified-id=\"Метод-ICE-3.1\"><span class=\"toc-item-num\">3.1&nbsp;&nbsp;</span>Метод ICE</a></span></li><li><span><a href=\"#Метод-RICE\" data-toc-modified-id=\"Метод-RICE-3.2\"><span class=\"toc-item-num\">3.2&nbsp;&nbsp;</span>Метод RICE</a></span></li><li><span><a href=\"#Вывод\" data-toc-modified-id=\"Вывод-3.3\"><span class=\"toc-item-num\">3.3&nbsp;&nbsp;</span>Вывод</a></span></li></ul></li><li><span><a href=\"#Анализ-результатов-A/B-теста\" data-toc-modified-id=\"Анализ-результатов-A/B-теста-4\"><span class=\"toc-item-num\">4&nbsp;&nbsp;</span>Анализ результатов A/B-теста</a></span><ul class=\"toc-item\"><li><span><a href=\"#Куммулятивные-показатели\" data-toc-modified-id=\"Куммулятивные-показатели-4.1\"><span class=\"toc-item-num\">4.1&nbsp;&nbsp;</span>Куммулятивные показатели</a></span></li><li><span><a href=\"#Определение-границ-аномалий\" data-toc-modified-id=\"Определение-границ-аномалий-4.2\"><span class=\"toc-item-num\">4.2&nbsp;&nbsp;</span>Определение границ аномалий</a></span></li><li><span><a href=\"#Статистическая-значимость\" data-toc-modified-id=\"Статистическая-значимость-4.3\"><span class=\"toc-item-num\">4.3&nbsp;&nbsp;</span>Статистическая значимость</a></span><ul class=\"toc-item\"><li><span><a href=\"#Сравнение-&quot;сырых&quot;-данных\" data-toc-modified-id=\"Сравнение-&quot;сырых&quot;-данных-4.3.1\"><span class=\"toc-item-num\">4.3.1&nbsp;&nbsp;</span>Сравнение \"сырых\" данных</a></span></li><li><span><a href=\"#Сравнение-&quot;очищенных&quot;-данных\" data-toc-modified-id=\"Сравнение-&quot;очищенных&quot;-данных-4.3.2\"><span class=\"toc-item-num\">4.3.2&nbsp;&nbsp;</span>Сравнение \"очищенных\" данных</a></span></li><li><span><a href=\"#Вывод\" data-toc-modified-id=\"Вывод-4.3.3\"><span class=\"toc-item-num\">4.3.3&nbsp;&nbsp;</span>Вывод</a></span></li></ul></li></ul></li><li><span><a href=\"#Отчёт\" data-toc-modified-id=\"Отчёт-5\"><span class=\"toc-item-num\">5&nbsp;&nbsp;</span>Отчёт</a></span></li></ul></div>"
   ]
  },
  {
   "cell_type": "markdown",
   "metadata": {},
   "source": [
    "# Принятие решений в бизнесе на основе данных\n",
    "\n",
    "**Заказчик исследования:** отдел маркетинга крупного интернет-магазина.\n",
    "\n",
    "**Цель:** приоритизировать гипотезы, запустить A/B-тест и проанализировать результаты.\n",
    "\n",
    "**Задачи:**\n",
    "1. Импортировать данные и ознакомиться с ними;\n",
    "2. Подготовить данные к анализу;\n",
    "3. Приоретизировать гипотезы фреймворками ICE и RICE;\n",
    "4. Проанализировать результаты A/B-теста;\n",
    "5. Принять решение по результату теста, сформулировать выводы рекомендации.\n",
    "\n",
    "**Входные данные:** датасет с гипотезами по увеличению выручки интернет-магазина с указанными параметрами Reach, Impact, Confidence, Effort и данные с результатами проведённого A/B-теста."
   ]
  },
  {
   "cell_type": "markdown",
   "metadata": {},
   "source": [
    "## Изучение общей информации"
   ]
  },
  {
   "cell_type": "code",
   "execution_count": 1,
   "metadata": {},
   "outputs": [],
   "source": [
    "import pandas as pd\n",
    "import numpy as np\n",
    "import scipy.stats as stats\n",
    "import math as mth\n",
    "import matplotlib.pyplot as plt\n",
    "import datetime as dt\n",
    "\n",
    "from pandas.plotting import register_matplotlib_converters\n",
    "register_matplotlib_converters()\n",
    "\n",
    "pd.set_option('display.max_columns', None)\n",
    "pd.options.display.max_colwidth = 150"
   ]
  },
  {
   "cell_type": "code",
   "execution_count": 2,
   "metadata": {},
   "outputs": [],
   "source": [
    "hypothesis = pd.read_csv('/Users/maksimblazko/Desktop/python/projects/ab_test/hypothesis.csv')\n",
    "visitors = pd.read_csv('/Users/maksimblazko/Desktop/python/projects/ab_test/visitors.csv')\n",
    "orders = pd.read_csv('/Users/maksimblazko/Desktop/python/projects/ab_test/orders.csv')"
   ]
  },
  {
   "cell_type": "markdown",
   "metadata": {},
   "source": [
    "Импортировали библиотеки, которые пригодяться в работе. Загрузим датасеты, ознакомимся с данными и оценим необходимость первых преобразований на этапе предобработки."
   ]
  },
  {
   "cell_type": "code",
   "execution_count": 3,
   "metadata": {},
   "outputs": [
    {
     "data": {
      "text/html": [
       "<div>\n",
       "<style scoped>\n",
       "    .dataframe tbody tr th:only-of-type {\n",
       "        vertical-align: middle;\n",
       "    }\n",
       "\n",
       "    .dataframe tbody tr th {\n",
       "        vertical-align: top;\n",
       "    }\n",
       "\n",
       "    .dataframe thead th {\n",
       "        text-align: right;\n",
       "    }\n",
       "</style>\n",
       "<table border=\"1\" class=\"dataframe\">\n",
       "  <thead>\n",
       "    <tr style=\"text-align: right;\">\n",
       "      <th></th>\n",
       "      <th>Hypothesis</th>\n",
       "      <th>Reach</th>\n",
       "      <th>Impact</th>\n",
       "      <th>Confidence</th>\n",
       "      <th>Efforts</th>\n",
       "    </tr>\n",
       "  </thead>\n",
       "  <tbody>\n",
       "    <tr>\n",
       "      <th>8</th>\n",
       "      <td>Запустить акцию, дающую скидку на товар в день рождения</td>\n",
       "      <td>1</td>\n",
       "      <td>9</td>\n",
       "      <td>9</td>\n",
       "      <td>5</td>\n",
       "    </tr>\n",
       "    <tr>\n",
       "      <th>7</th>\n",
       "      <td>Добавить форму подписки на все основные страницы, чтобы собрать базу клиентов для email-рассылок</td>\n",
       "      <td>10</td>\n",
       "      <td>7</td>\n",
       "      <td>8</td>\n",
       "      <td>5</td>\n",
       "    </tr>\n",
       "    <tr>\n",
       "      <th>1</th>\n",
       "      <td>Запустить собственную службу доставки, что сократит срок доставки заказов</td>\n",
       "      <td>2</td>\n",
       "      <td>5</td>\n",
       "      <td>4</td>\n",
       "      <td>10</td>\n",
       "    </tr>\n",
       "    <tr>\n",
       "      <th>5</th>\n",
       "      <td>Добавить страницу отзывов клиентов о магазине, что позволит увеличить количество заказов</td>\n",
       "      <td>3</td>\n",
       "      <td>2</td>\n",
       "      <td>2</td>\n",
       "      <td>3</td>\n",
       "    </tr>\n",
       "    <tr>\n",
       "      <th>6</th>\n",
       "      <td>Показать на главной странице баннеры с актуальными акциями и распродажами, чтобы увеличить конверсию</td>\n",
       "      <td>5</td>\n",
       "      <td>3</td>\n",
       "      <td>8</td>\n",
       "      <td>3</td>\n",
       "    </tr>\n",
       "  </tbody>\n",
       "</table>\n",
       "</div>"
      ],
      "text/plain": [
       "                                                                                             Hypothesis  \\\n",
       "8                                               Запустить акцию, дающую скидку на товар в день рождения   \n",
       "7      Добавить форму подписки на все основные страницы, чтобы собрать базу клиентов для email-рассылок   \n",
       "1                             Запустить собственную службу доставки, что сократит срок доставки заказов   \n",
       "5              Добавить страницу отзывов клиентов о магазине, что позволит увеличить количество заказов   \n",
       "6  Показать на главной странице баннеры с актуальными акциями и распродажами, чтобы увеличить конверсию   \n",
       "\n",
       "   Reach  Impact  Confidence  Efforts  \n",
       "8      1       9           9        5  \n",
       "7     10       7           8        5  \n",
       "1      2       5           4       10  \n",
       "5      3       2           2        3  \n",
       "6      5       3           8        3  "
      ]
     },
     "metadata": {},
     "output_type": "display_data"
    },
    {
     "name": "stdout",
     "output_type": "stream",
     "text": [
      "<class 'pandas.core.frame.DataFrame'>\n",
      "RangeIndex: 9 entries, 0 to 8\n",
      "Data columns (total 5 columns):\n",
      " #   Column      Non-Null Count  Dtype \n",
      "---  ------      --------------  ----- \n",
      " 0   Hypothesis  9 non-null      object\n",
      " 1   Reach       9 non-null      int64 \n",
      " 2   Impact      9 non-null      int64 \n",
      " 3   Confidence  9 non-null      int64 \n",
      " 4   Efforts     9 non-null      int64 \n",
      "dtypes: int64(4), object(1)\n",
      "memory usage: 488.0+ bytes\n"
     ]
    }
   ],
   "source": [
    "display(hypothesis.sample(5))\n",
    "hypothesis.info()"
   ]
  },
  {
   "cell_type": "code",
   "execution_count": 4,
   "metadata": {},
   "outputs": [
    {
     "data": {
      "text/html": [
       "<div>\n",
       "<style scoped>\n",
       "    .dataframe tbody tr th:only-of-type {\n",
       "        vertical-align: middle;\n",
       "    }\n",
       "\n",
       "    .dataframe tbody tr th {\n",
       "        vertical-align: top;\n",
       "    }\n",
       "\n",
       "    .dataframe thead th {\n",
       "        text-align: right;\n",
       "    }\n",
       "</style>\n",
       "<table border=\"1\" class=\"dataframe\">\n",
       "  <thead>\n",
       "    <tr style=\"text-align: right;\">\n",
       "      <th></th>\n",
       "      <th>date</th>\n",
       "      <th>group</th>\n",
       "      <th>visitors</th>\n",
       "    </tr>\n",
       "  </thead>\n",
       "  <tbody>\n",
       "    <tr>\n",
       "      <th>33</th>\n",
       "      <td>2019-08-03</td>\n",
       "      <td>B</td>\n",
       "      <td>509</td>\n",
       "    </tr>\n",
       "    <tr>\n",
       "      <th>27</th>\n",
       "      <td>2019-08-28</td>\n",
       "      <td>A</td>\n",
       "      <td>594</td>\n",
       "    </tr>\n",
       "    <tr>\n",
       "      <th>20</th>\n",
       "      <td>2019-08-21</td>\n",
       "      <td>A</td>\n",
       "      <td>646</td>\n",
       "    </tr>\n",
       "    <tr>\n",
       "      <th>3</th>\n",
       "      <td>2019-08-04</td>\n",
       "      <td>A</td>\n",
       "      <td>717</td>\n",
       "    </tr>\n",
       "    <tr>\n",
       "      <th>34</th>\n",
       "      <td>2019-08-04</td>\n",
       "      <td>B</td>\n",
       "      <td>770</td>\n",
       "    </tr>\n",
       "  </tbody>\n",
       "</table>\n",
       "</div>"
      ],
      "text/plain": [
       "          date group  visitors\n",
       "33  2019-08-03     B       509\n",
       "27  2019-08-28     A       594\n",
       "20  2019-08-21     A       646\n",
       "3   2019-08-04     A       717\n",
       "34  2019-08-04     B       770"
      ]
     },
     "metadata": {},
     "output_type": "display_data"
    },
    {
     "name": "stdout",
     "output_type": "stream",
     "text": [
      "<class 'pandas.core.frame.DataFrame'>\n",
      "RangeIndex: 62 entries, 0 to 61\n",
      "Data columns (total 3 columns):\n",
      " #   Column    Non-Null Count  Dtype \n",
      "---  ------    --------------  ----- \n",
      " 0   date      62 non-null     object\n",
      " 1   group     62 non-null     object\n",
      " 2   visitors  62 non-null     int64 \n",
      "dtypes: int64(1), object(2)\n",
      "memory usage: 1.6+ KB\n"
     ]
    },
    {
     "data": {
      "text/plain": [
       "0"
      ]
     },
     "execution_count": 4,
     "metadata": {},
     "output_type": "execute_result"
    }
   ],
   "source": [
    "display(visitors.sample(5))\n",
    "visitors.info()\n",
    "\n",
    "visitors.duplicated().sum()"
   ]
  },
  {
   "cell_type": "code",
   "execution_count": 5,
   "metadata": {
    "scrolled": false
   },
   "outputs": [
    {
     "data": {
      "text/html": [
       "<div>\n",
       "<style scoped>\n",
       "    .dataframe tbody tr th:only-of-type {\n",
       "        vertical-align: middle;\n",
       "    }\n",
       "\n",
       "    .dataframe tbody tr th {\n",
       "        vertical-align: top;\n",
       "    }\n",
       "\n",
       "    .dataframe thead th {\n",
       "        text-align: right;\n",
       "    }\n",
       "</style>\n",
       "<table border=\"1\" class=\"dataframe\">\n",
       "  <thead>\n",
       "    <tr style=\"text-align: right;\">\n",
       "      <th></th>\n",
       "      <th>transactionId</th>\n",
       "      <th>visitorId</th>\n",
       "      <th>date</th>\n",
       "      <th>revenue</th>\n",
       "      <th>group</th>\n",
       "    </tr>\n",
       "  </thead>\n",
       "  <tbody>\n",
       "    <tr>\n",
       "      <th>791</th>\n",
       "      <td>3525952977</td>\n",
       "      <td>2888793654</td>\n",
       "      <td>2019-08-30</td>\n",
       "      <td>13770</td>\n",
       "      <td>A</td>\n",
       "    </tr>\n",
       "    <tr>\n",
       "      <th>646</th>\n",
       "      <td>3796946799</td>\n",
       "      <td>4095180727</td>\n",
       "      <td>2019-08-26</td>\n",
       "      <td>4620</td>\n",
       "      <td>A</td>\n",
       "    </tr>\n",
       "    <tr>\n",
       "      <th>851</th>\n",
       "      <td>986374747</td>\n",
       "      <td>949750571</td>\n",
       "      <td>2019-08-27</td>\n",
       "      <td>590</td>\n",
       "      <td>A</td>\n",
       "    </tr>\n",
       "    <tr>\n",
       "      <th>743</th>\n",
       "      <td>3603576309</td>\n",
       "      <td>4133034833</td>\n",
       "      <td>2019-08-09</td>\n",
       "      <td>67990</td>\n",
       "      <td>A</td>\n",
       "    </tr>\n",
       "    <tr>\n",
       "      <th>1071</th>\n",
       "      <td>3348489190</td>\n",
       "      <td>3112126740</td>\n",
       "      <td>2019-08-12</td>\n",
       "      <td>7690</td>\n",
       "      <td>A</td>\n",
       "    </tr>\n",
       "  </tbody>\n",
       "</table>\n",
       "</div>"
      ],
      "text/plain": [
       "      transactionId   visitorId        date  revenue group\n",
       "791      3525952977  2888793654  2019-08-30    13770     A\n",
       "646      3796946799  4095180727  2019-08-26     4620     A\n",
       "851       986374747   949750571  2019-08-27      590     A\n",
       "743      3603576309  4133034833  2019-08-09    67990     A\n",
       "1071     3348489190  3112126740  2019-08-12     7690     A"
      ]
     },
     "metadata": {},
     "output_type": "display_data"
    },
    {
     "name": "stdout",
     "output_type": "stream",
     "text": [
      "<class 'pandas.core.frame.DataFrame'>\n",
      "RangeIndex: 1197 entries, 0 to 1196\n",
      "Data columns (total 5 columns):\n",
      " #   Column         Non-Null Count  Dtype \n",
      "---  ------         --------------  ----- \n",
      " 0   transactionId  1197 non-null   int64 \n",
      " 1   visitorId      1197 non-null   int64 \n",
      " 2   date           1197 non-null   object\n",
      " 3   revenue        1197 non-null   int64 \n",
      " 4   group          1197 non-null   object\n",
      "dtypes: int64(3), object(2)\n",
      "memory usage: 46.9+ KB\n"
     ]
    },
    {
     "data": {
      "text/plain": [
       "0"
      ]
     },
     "execution_count": 5,
     "metadata": {},
     "output_type": "execute_result"
    }
   ],
   "source": [
    "display(orders.sample(5))\n",
    "orders.info()\n",
    "\n",
    "orders.duplicated().sum()"
   ]
  },
  {
   "cell_type": "code",
   "execution_count": 6,
   "metadata": {},
   "outputs": [
    {
     "data": {
      "text/plain": [
       "False    445\n",
       "True      58\n",
       "Name: visitorId, dtype: int64"
      ]
     },
     "execution_count": 6,
     "metadata": {},
     "output_type": "execute_result"
    }
   ],
   "source": [
    "orders[orders['group'] == 'A']['visitorId'].drop_duplicates().isin(orders[orders['group'] == 'B']['visitorId']).value_counts()"
   ]
  },
  {
   "cell_type": "markdown",
   "metadata": {},
   "source": [
    "Пропусков и дубликатов нет, это хорошо.\n",
    "\n",
    "В таблице с гипотезами приведём названия столбцов к нижнему регистру.\n",
    "\n",
    "В таблицах с посетителями и заказами изменим формат в столбцах с датами на подходящий. Хотел привести столбцы с группами к категориальному типу, но \"поймал\" ошибку при выхзове аггрегирующей функции на этапе анализа данных. Получил опыт поиска ошибки и закомментил этот неверный шаг)\n",
    "\n",
    "## Предобработка данных"
   ]
  },
  {
   "cell_type": "code",
   "execution_count": 7,
   "metadata": {},
   "outputs": [],
   "source": [
    "hypothesis.columns = hypothesis.columns.str.lower()\n",
    "\n",
    "visitors['date'] = visitors['date'].map(lambda x: dt.datetime.strptime(x, '%Y-%m-%d'))\n",
    "#visitors['group'] = visitors['group'].astype('category')\n",
    "\n",
    "orders['date'] = orders['date'].map(lambda x: dt.datetime.strptime(x, '%Y-%m-%d'))\n",
    "#orders['group'] = orders['group'].astype('category')"
   ]
  },
  {
   "cell_type": "markdown",
   "metadata": {},
   "source": [
    "Предобработка получилась небольшой, можно поблагодарить за это коллег, отвечающих за архитектуру и наполнения данных и предоставивших их, после чего переходить к анализу.\n",
    "\n",
    "## Приоретизация гипотез\n",
    "\n",
    "Как мы уже знаем, проверка гипотез стоит дорого и все их протестировать, как правило, не удаётся. Чтобы определиться, какую тестировать в первую очередь, прибегнем к методам приоретизации, исходя из метрик, которые присвоили каждой из гипотез коллеги из маркетингового отдела.\n",
    "\n",
    "### Метод ICE\n",
    "\n",
    "ICE (от англ. impact, confidence, effort  «влияние, уверенность, усилия») позволяет приоретизировать задачи, исходя из оценок. Найдём показатель для каждой из гипотез, добавим соответствующий столбец в таблицу и выведем ранжированный список."
   ]
  },
  {
   "cell_type": "code",
   "execution_count": 8,
   "metadata": {},
   "outputs": [
    {
     "data": {
      "text/html": [
       "<div>\n",
       "<style scoped>\n",
       "    .dataframe tbody tr th:only-of-type {\n",
       "        vertical-align: middle;\n",
       "    }\n",
       "\n",
       "    .dataframe tbody tr th {\n",
       "        vertical-align: top;\n",
       "    }\n",
       "\n",
       "    .dataframe thead th {\n",
       "        text-align: right;\n",
       "    }\n",
       "</style>\n",
       "<table border=\"1\" class=\"dataframe\">\n",
       "  <thead>\n",
       "    <tr style=\"text-align: right;\">\n",
       "      <th></th>\n",
       "      <th>hypothesis</th>\n",
       "      <th>ice</th>\n",
       "    </tr>\n",
       "  </thead>\n",
       "  <tbody>\n",
       "    <tr>\n",
       "      <th>8</th>\n",
       "      <td>Запустить акцию, дающую скидку на товар в день рождения</td>\n",
       "      <td>16.0</td>\n",
       "    </tr>\n",
       "    <tr>\n",
       "      <th>0</th>\n",
       "      <td>Добавить два новых канала привлечения трафика, что позволит привлекать на 30% больше пользователей</td>\n",
       "      <td>13.0</td>\n",
       "    </tr>\n",
       "    <tr>\n",
       "      <th>7</th>\n",
       "      <td>Добавить форму подписки на все основные страницы, чтобы собрать базу клиентов для email-рассылок</td>\n",
       "      <td>11.0</td>\n",
       "    </tr>\n",
       "    <tr>\n",
       "      <th>6</th>\n",
       "      <td>Показать на главной странице баннеры с актуальными акциями и распродажами, чтобы увеличить конверсию</td>\n",
       "      <td>8.0</td>\n",
       "    </tr>\n",
       "    <tr>\n",
       "      <th>2</th>\n",
       "      <td>Добавить блоки рекомендаций товаров на сайт интернет магазина, чтобы повысить конверсию и средний чек заказа</td>\n",
       "      <td>7.0</td>\n",
       "    </tr>\n",
       "    <tr>\n",
       "      <th>1</th>\n",
       "      <td>Запустить собственную службу доставки, что сократит срок доставки заказов</td>\n",
       "      <td>2.0</td>\n",
       "    </tr>\n",
       "    <tr>\n",
       "      <th>3</th>\n",
       "      <td>Изменить структура категорий, что увеличит конверсию, т.к. пользователи быстрее найдут нужный товар</td>\n",
       "      <td>1.0</td>\n",
       "    </tr>\n",
       "    <tr>\n",
       "      <th>4</th>\n",
       "      <td>Изменить цвет фона главной страницы, чтобы увеличить вовлеченность пользователей</td>\n",
       "      <td>1.0</td>\n",
       "    </tr>\n",
       "    <tr>\n",
       "      <th>5</th>\n",
       "      <td>Добавить страницу отзывов клиентов о магазине, что позволит увеличить количество заказов</td>\n",
       "      <td>1.0</td>\n",
       "    </tr>\n",
       "  </tbody>\n",
       "</table>\n",
       "</div>"
      ],
      "text/plain": [
       "                                                                                                     hypothesis  \\\n",
       "8                                                       Запустить акцию, дающую скидку на товар в день рождения   \n",
       "0            Добавить два новых канала привлечения трафика, что позволит привлекать на 30% больше пользователей   \n",
       "7              Добавить форму подписки на все основные страницы, чтобы собрать базу клиентов для email-рассылок   \n",
       "6          Показать на главной странице баннеры с актуальными акциями и распродажами, чтобы увеличить конверсию   \n",
       "2  Добавить блоки рекомендаций товаров на сайт интернет магазина, чтобы повысить конверсию и средний чек заказа   \n",
       "1                                     Запустить собственную службу доставки, что сократит срок доставки заказов   \n",
       "3           Изменить структура категорий, что увеличит конверсию, т.к. пользователи быстрее найдут нужный товар   \n",
       "4                              Изменить цвет фона главной страницы, чтобы увеличить вовлеченность пользователей   \n",
       "5                      Добавить страницу отзывов клиентов о магазине, что позволит увеличить количество заказов   \n",
       "\n",
       "    ice  \n",
       "8  16.0  \n",
       "0  13.0  \n",
       "7  11.0  \n",
       "6   8.0  \n",
       "2   7.0  \n",
       "1   2.0  \n",
       "3   1.0  \n",
       "4   1.0  \n",
       "5   1.0  "
      ]
     },
     "metadata": {},
     "output_type": "display_data"
    }
   ],
   "source": [
    "hypothesis['ice'] = (\n",
    "    (hypothesis['impact'] * hypothesis['confidence']) / hypothesis['efforts']\n",
    ").round()\n",
    "display(hypothesis[['hypothesis', 'ice']].sort_values(by='ice', ascending=False))"
   ]
  },
  {
   "cell_type": "markdown",
   "metadata": {},
   "source": [
    "В топ-3 акция, новые каналы продвижения и форма подписки.\n",
    "\n",
    "### Метод RICE\n",
    "\n",
    "В игру вступает рейтинг охвата предлагаемого изменения: сколько пользователей \"затронет\" новая гипотеза."
   ]
  },
  {
   "cell_type": "code",
   "execution_count": 9,
   "metadata": {},
   "outputs": [
    {
     "data": {
      "text/html": [
       "<div>\n",
       "<style scoped>\n",
       "    .dataframe tbody tr th:only-of-type {\n",
       "        vertical-align: middle;\n",
       "    }\n",
       "\n",
       "    .dataframe tbody tr th {\n",
       "        vertical-align: top;\n",
       "    }\n",
       "\n",
       "    .dataframe thead th {\n",
       "        text-align: right;\n",
       "    }\n",
       "</style>\n",
       "<table border=\"1\" class=\"dataframe\">\n",
       "  <thead>\n",
       "    <tr style=\"text-align: right;\">\n",
       "      <th></th>\n",
       "      <th>hypothesis</th>\n",
       "      <th>rice</th>\n",
       "    </tr>\n",
       "  </thead>\n",
       "  <tbody>\n",
       "    <tr>\n",
       "      <th>7</th>\n",
       "      <td>Добавить форму подписки на все основные страницы, чтобы собрать базу клиентов для email-рассылок</td>\n",
       "      <td>112.0</td>\n",
       "    </tr>\n",
       "    <tr>\n",
       "      <th>2</th>\n",
       "      <td>Добавить блоки рекомендаций товаров на сайт интернет магазина, чтобы повысить конверсию и средний чек заказа</td>\n",
       "      <td>56.0</td>\n",
       "    </tr>\n",
       "    <tr>\n",
       "      <th>0</th>\n",
       "      <td>Добавить два новых канала привлечения трафика, что позволит привлекать на 30% больше пользователей</td>\n",
       "      <td>40.0</td>\n",
       "    </tr>\n",
       "    <tr>\n",
       "      <th>6</th>\n",
       "      <td>Показать на главной странице баннеры с актуальными акциями и распродажами, чтобы увеличить конверсию</td>\n",
       "      <td>40.0</td>\n",
       "    </tr>\n",
       "    <tr>\n",
       "      <th>8</th>\n",
       "      <td>Запустить акцию, дающую скидку на товар в день рождения</td>\n",
       "      <td>16.2</td>\n",
       "    </tr>\n",
       "    <tr>\n",
       "      <th>3</th>\n",
       "      <td>Изменить структура категорий, что увеличит конверсию, т.к. пользователи быстрее найдут нужный товар</td>\n",
       "      <td>9.0</td>\n",
       "    </tr>\n",
       "    <tr>\n",
       "      <th>1</th>\n",
       "      <td>Запустить собственную службу доставки, что сократит срок доставки заказов</td>\n",
       "      <td>4.0</td>\n",
       "    </tr>\n",
       "    <tr>\n",
       "      <th>5</th>\n",
       "      <td>Добавить страницу отзывов клиентов о магазине, что позволит увеличить количество заказов</td>\n",
       "      <td>4.0</td>\n",
       "    </tr>\n",
       "    <tr>\n",
       "      <th>4</th>\n",
       "      <td>Изменить цвет фона главной страницы, чтобы увеличить вовлеченность пользователей</td>\n",
       "      <td>3.0</td>\n",
       "    </tr>\n",
       "  </tbody>\n",
       "</table>\n",
       "</div>"
      ],
      "text/plain": [
       "                                                                                                     hypothesis  \\\n",
       "7              Добавить форму подписки на все основные страницы, чтобы собрать базу клиентов для email-рассылок   \n",
       "2  Добавить блоки рекомендаций товаров на сайт интернет магазина, чтобы повысить конверсию и средний чек заказа   \n",
       "0            Добавить два новых канала привлечения трафика, что позволит привлекать на 30% больше пользователей   \n",
       "6          Показать на главной странице баннеры с актуальными акциями и распродажами, чтобы увеличить конверсию   \n",
       "8                                                       Запустить акцию, дающую скидку на товар в день рождения   \n",
       "3           Изменить структура категорий, что увеличит конверсию, т.к. пользователи быстрее найдут нужный товар   \n",
       "1                                     Запустить собственную службу доставки, что сократит срок доставки заказов   \n",
       "5                      Добавить страницу отзывов клиентов о магазине, что позволит увеличить количество заказов   \n",
       "4                              Изменить цвет фона главной страницы, чтобы увеличить вовлеченность пользователей   \n",
       "\n",
       "    rice  \n",
       "7  112.0  \n",
       "2   56.0  \n",
       "0   40.0  \n",
       "6   40.0  \n",
       "8   16.2  \n",
       "3    9.0  \n",
       "1    4.0  \n",
       "5    4.0  \n",
       "4    3.0  "
      ]
     },
     "metadata": {},
     "output_type": "display_data"
    }
   ],
   "source": [
    "hypothesis['rice'] = (hypothesis['reach'] * hypothesis['impact'] * hypothesis['confidence']) / hypothesis['efforts']\n",
    "display(hypothesis[['hypothesis', 'rice']].sort_values(by='rice', ascending=False))"
   ]
  },
  {
   "cell_type": "markdown",
   "metadata": {},
   "source": [
    "В топ-5 те же гипотезы, что и при методе ICE, но порядок их изменился. Теперь с большим отрывом по рейтингу лидирует форма для сбора e-mail адресов на страницах интернет-магазина.\n",
    "\n",
    "### Вывод\n",
    "\n",
    "Дополнительная метрика способна изменить итоговый рейтинг приоритетных гипотез, как показатель охвата аудитории в нашем примере. Но и тот факт, что топ-5 по составу не изменился, свидетельствует о валидной оценке метрик гипотез.\n",
    "\n",
    "Это не является истиной всегда, но, в данном случае оценки гипотез, лучше использовать все имеющиеся для этого данные и не игнорировать охват предлагаемых изменений. То есть, выбирать метод RICE."
   ]
  },
  {
   "cell_type": "markdown",
   "metadata": {},
   "source": [
    "## Анализ результатов A/B-теста\n",
    "\n",
    "### Куммулятивные показатели\n",
    "\n",
    "Начнём с графического анализа куммулятивных показателей: выручки, среднего чека и конверсии, а так же их производных (относительных группы B к группе A)."
   ]
  },
  {
   "cell_type": "code",
   "execution_count": 10,
   "metadata": {},
   "outputs": [],
   "source": [
    "dates_groups = orders[['date','group']].drop_duplicates()\n",
    "\n",
    "orders_aggregated = dates_groups.apply(\n",
    "    lambda x: orders[np.logical_and(orders['date'] <= x['date'],\n",
    "                                    orders['group'] == x['group'])]\\\n",
    "    .agg({'date': 'max', 'group': 'max', 'transactionId': pd.Series.nunique,\n",
    "          'visitorId': pd.Series.nunique, 'revenue': 'sum'}), axis=1\n",
    ").sort_values(by=['date', 'group'])\n",
    "\n",
    "visitors_aggregated = dates_groups.apply(\n",
    "    lambda x: visitors[np.logical_and(visitors['date'] <= x['date'],\n",
    "                                     visitors['group'] == x['group'])]\\\n",
    "    .agg({'date': 'max', 'group': 'max', 'visitors': 'sum'}), axis=1\n",
    ").sort_values(by=['date', 'group'])\n",
    "\n",
    "cumulative_data = orders_aggregated.merge(visitors_aggregated, on=['date', 'group'])\n",
    "cumulative_data.columns = ['date', 'group', 'orders', 'buyers', 'revenue', 'visitors']\n",
    "\n",
    "cumulative_data['conversions'] = cumulative_data['orders'] / cumulative_data['visitors']\n",
    "cumulative_data['avg_check'] = cumulative_data['revenue'] / cumulative_data['orders']"
   ]
  },
  {
   "cell_type": "code",
   "execution_count": 11,
   "metadata": {},
   "outputs": [
    {
     "data": {
      "image/png": "[encoded data removed]",
      "text/plain": [
       "<Figure size 1080x504 with 1 Axes>"
      ]
     },
     "metadata": {
      "needs_background": "light"
     },
     "output_type": "display_data"
    }
   ],
   "source": [
    "plt.figure(figsize=(15, 7))\n",
    "\n",
    "plt.plot(\n",
    "    cumulative_data[cumulative_data['group'] == 'A']['date'],\n",
    "    cumulative_data[cumulative_data['group'] == 'A']['revenue'],\n",
    "    label = 'A'\n",
    ");\n",
    "\n",
    "plt.plot(\n",
    "    cumulative_data[cumulative_data['group'] == 'B']['date'],\n",
    "    cumulative_data[cumulative_data['group'] == 'B']['revenue'],\n",
    "    label = 'B'\n",
    ");\n",
    "\n",
    "plt.title('График накопленной выручки', fontsize=20)\n",
    "plt.xlabel('Дата', fontsize=15)\n",
    "plt.ylabel('Выручка, у.е.', fontsize=15)\n",
    "plt.grid(True)\n",
    "plt.legend(fontsize=15)\n",
    "\n",
    "plt.annotate('скачок', xy=('2019-08-18', 3000000), xytext=('2019-08-14', 3700000),\n",
    "            arrowprops=dict(facecolor='g'), fontsize=15)\n",
    "plt.annotate('отрыв', xy=('2019-08-05', 700000), xytext=('2019-08-02', 1500000),\n",
    "            arrowprops=dict(facecolor='g'), fontsize=15) \n",
    "\n",
    "plt.show()"
   ]
  },
  {
   "cell_type": "markdown",
   "metadata": {},
   "source": [
    "Выручка, полученная от пользователей из группы B больше, но на графики виден явный всплеск с 18 на 19 августа. Он создал большой отрыв по выручке от группы A, но это, скорее, шум, а не эффект от A/B-теста."
   ]
  },
  {
   "cell_type": "code",
   "execution_count": 12,
   "metadata": {},
   "outputs": [
    {
     "data": {
      "image/png": "[encoded data removed]",
      "text/plain": [
       "<Figure size 1080x504 with 1 Axes>"
      ]
     },
     "metadata": {
      "needs_background": "light"
     },
     "output_type": "display_data"
    }
   ],
   "source": [
    "plt.figure(figsize=(15, 7))\n",
    "\n",
    "plt.plot(\n",
    "    cumulative_data[cumulative_data['group'] == 'A']['date'],\n",
    "    cumulative_data[cumulative_data['group'] == 'A']['avg_check'],\n",
    "    label = 'A'\n",
    ")\n",
    "\n",
    "plt.plot(\n",
    "    cumulative_data[cumulative_data['group'] == 'B']['date'],\n",
    "    cumulative_data[cumulative_data['group'] == 'B']['avg_check'],\n",
    "    label = 'B'\n",
    ")\n",
    "\n",
    "plt.title('Средний чек', fontsize=20)\n",
    "plt.xlabel('Дата', fontsize=15)\n",
    "plt.ylabel('Сумма, у.е.', fontsize=15)\n",
    "plt.grid(True)\n",
    "plt.legend(fontsize=15) \n",
    "\n",
    "plt.show()"
   ]
  },
  {
   "cell_type": "markdown",
   "metadata": {},
   "source": [
    "Ближе к концу теста, тренд среднего чека устанавливается: в группе A он сохраняется в районе 7000, а в группе B он уменьшается, отыгрывая обратно всплеск выдающегося заказа от 18-19 августа. Для группы B будет предпочтительно удалить аномальные заказы."
   ]
  },
  {
   "cell_type": "code",
   "execution_count": 13,
   "metadata": {},
   "outputs": [],
   "source": [
    "cumulative_data_a = cumulative_data[cumulative_data['group'] == 'A'][['date', 'avg_check', 'conversions']]\n",
    "cumulative_data_b = cumulative_data[cumulative_data['group'] == 'B'][['date', 'avg_check', 'conversions']]\n",
    "\n",
    "cumulative_data_b_on_a = cumulative_data_a.merge(\n",
    "    cumulative_data_b, on='date', how='left', suffixes=['A', 'B']\n",
    ")\n",
    "\n",
    "cumulative_data_b_on_a['avg_check_b_on_a'] = (\n",
    "    cumulative_data_b_on_a['avg_checkB'] /cumulative_data_b_on_a['avg_checkA']\n",
    ")\n",
    "cumulative_data_b_on_a['conversions_b_on_a'] = (\n",
    "    cumulative_data_b_on_a['conversionsB'] / cumulative_data_b_on_a['conversionsA']\n",
    ")"
   ]
  },
  {
   "cell_type": "code",
   "execution_count": 14,
   "metadata": {},
   "outputs": [
    {
     "data": {
      "image/png": "[encoded data removed]",
      "text/plain": [
       "<Figure size 1080x504 with 1 Axes>"
      ]
     },
     "metadata": {
      "needs_background": "light"
     },
     "output_type": "display_data"
    }
   ],
   "source": [
    "plt.figure(figsize=(15, 7))\n",
    "\n",
    "plt.plot(\n",
    "    cumulative_data_b_on_a['date'],\n",
    "    cumulative_data_b_on_a['avg_check_b_on_a'] - 1\n",
    ")\n",
    "\n",
    "\n",
    "\n",
    "plt.title('Отношение среднего чека группы B к группе A', fontsize=20)\n",
    "plt.xlabel('Дата', fontsize=15)\n",
    "plt.ylabel('Коэффициент', fontsize=15)\n",
    "plt.grid(True)\n",
    "plt.axhline(y=0, color='black', linestyle='--')\n",
    "\n",
    "plt.show()"
   ]
  },
  {
   "cell_type": "markdown",
   "metadata": {},
   "source": [
    "У графика несколько всплесков, в том числе уже известный нам от 18-19 августа. Общего тренда за период наблюдений, график так и не получил. Судя по данным, стоит продолжить наблюдение, исключив артефакты, приведшие к всплескам."
   ]
  },
  {
   "cell_type": "code",
   "execution_count": 15,
   "metadata": {},
   "outputs": [
    {
     "data": {
      "image/png": "[encoded data removed]",
      "text/plain": [
       "<Figure size 1080x504 with 1 Axes>"
      ]
     },
     "metadata": {
      "needs_background": "light"
     },
     "output_type": "display_data"
    }
   ],
   "source": [
    "plt.figure(figsize=(15, 7))\n",
    "\n",
    "plt.plot(\n",
    "    cumulative_data[cumulative_data['group'] == 'A']['date'],\n",
    "    cumulative_data[cumulative_data['group'] == 'A']['conversions'],\n",
    "    label = 'A'\n",
    ")\n",
    "\n",
    "plt.plot(\n",
    "    cumulative_data[cumulative_data['group'] == 'B']['date'],\n",
    "    cumulative_data[cumulative_data['group'] == 'B']['conversions'],\n",
    "    label = 'B'\n",
    ")\n",
    "\n",
    "plt.title('Накопленная конверсия', fontsize=20)\n",
    "plt.xlabel('Дата', fontsize=15)\n",
    "plt.ylabel('Конверсия', fontsize=15)\n",
    "plt.grid(True)\n",
    "plt.legend(fontsize=15) \n",
    "\n",
    "plt.show()"
   ]
  },
  {
   "cell_type": "markdown",
   "metadata": {},
   "source": [
    "Начало наблюдения было подвержено \"шумам\" и всплескам в значениях, однако, уже спустя неделю наблюдений, статистика устоялась. Можно сделать вывод о том, что пользователи группы B делают покупки на 3-5% чаще, чем пользователи группы A."
   ]
  },
  {
   "cell_type": "code",
   "execution_count": 16,
   "metadata": {},
   "outputs": [
    {
     "data": {
      "image/png": "[encoded data removed]",
      "text/plain": [
       "<Figure size 1080x504 with 1 Axes>"
      ]
     },
     "metadata": {
      "needs_background": "light"
     },
     "output_type": "display_data"
    }
   ],
   "source": [
    "plt.figure(figsize=(15, 7))\n",
    "\n",
    "plt.plot(\n",
    "    cumulative_data_b_on_a['date'],\n",
    "    cumulative_data_b_on_a['conversions_b_on_a'] - 1\n",
    ")\n",
    "\n",
    "plt.title('Отношение конверсии группы B к группе A', fontsize=20)\n",
    "plt.xlabel('Дата', fontsize=15)\n",
    "plt.ylabel('Коэффициент', fontsize=15)\n",
    "plt.grid(True)\n",
    "plt.axhline(y=0, color='black', linestyle='--')\n",
    "plt.axhline(y=0.12, color='grey', linestyle='--')\n",
    "\n",
    "plt.show()"
   ]
  },
  {
   "cell_type": "markdown",
   "metadata": {},
   "source": [
    "В первую неделю теста, пока данные были подвержены сильным изменениям по причине малого количества собранной информации и была ошибка \"подглядывания\", группа B проигрывала по конверсии. Но всё оставшееся время, группа B показывает лучшую конверсию без особенных тенденций в ту или иную сторону."
   ]
  },
  {
   "cell_type": "markdown",
   "metadata": {},
   "source": [
    "### Определение границ аномалий\n",
    "\n",
    "Чтобы \"очистить\" данные от всплесков и оценить влияние изменения, применённого к группе B, найдём исключительные выдающиеся всплески по количеству и сумме заказы."
   ]
  },
  {
   "cell_type": "code",
   "execution_count": 17,
   "metadata": {},
   "outputs": [
    {
     "data": {
      "image/png": "[encoded data removed]",
      "text/plain": [
       "<Figure size 1080x504 with 1 Axes>"
      ]
     },
     "metadata": {
      "needs_background": "light"
     },
     "output_type": "display_data"
    },
    {
     "name": "stdout",
     "output_type": "stream",
     "text": [
      "95% заказов не дороже 28000 у.е.\n",
      "99% заказов не дороже 58233 у.е.\n"
     ]
    }
   ],
   "source": [
    "x_values_rev = pd.Series(range(0, len(orders['revenue'])))\n",
    "\n",
    "plt.figure(figsize=(15, 7))\n",
    "\n",
    "plt.scatter(x_values_rev, orders['revenue'])\n",
    "\n",
    "plt.title('Разброс сумм заказов', fontsize=20)\n",
    "plt.xlabel('Порядковый номер заказа', fontsize=15)\n",
    "plt.ylabel('Сумма заказа, у.е.', fontsize=15) \n",
    "\n",
    "plt.show()\n",
    "\n",
    "print('95% заказов не дороже {:.0f} у.е.'.format(np.percentile(orders['revenue'], 95)))\n",
    "print('99% заказов не дороже {:.0f} у.е.'.format(np.percentile(orders['revenue'], 99)))"
   ]
  },
  {
   "cell_type": "markdown",
   "metadata": {},
   "source": [
    "На графике видно, что выборка достаточно однородна, если судить по стоимости заказов. Определим верхний порог в 99-й перцентиль, то есть равный 58233.\n",
    "\n",
    "Определимся, что считать аномалией в количестве заказов одного пользователя."
   ]
  },
  {
   "cell_type": "code",
   "execution_count": 18,
   "metadata": {
    "scrolled": false
   },
   "outputs": [
    {
     "data": {
      "image/png": "[encoded data removed]",
      "text/plain": [
       "<Figure size 1080x504 with 1 Axes>"
      ]
     },
     "metadata": {
      "needs_background": "light"
     },
     "output_type": "display_data"
    },
    {
     "name": "stdout",
     "output_type": "stream",
     "text": [
      "95% пользователей в среднем заказывали не чаще 2 раз\n",
      "99% пользователей в среднем заказывали не чаще 4 раз\n"
     ]
    }
   ],
   "source": [
    "orders_by_users = (\n",
    "    orders.drop(['group', 'revenue', 'date'], axis=1)\n",
    "    .groupby('visitorId', as_index=False)\n",
    "    .agg({'transactionId': pd.Series.nunique})\n",
    ")\n",
    "\n",
    "orders_by_users.columns = ['userId', 'orders']\n",
    "\n",
    "x_values_ord = pd.Series(range(0, len(orders_by_users)))\n",
    "\n",
    "plt.figure(figsize=(15, 7))\n",
    "\n",
    "plt.scatter(x_values_ord, orders_by_users['orders'])\n",
    "\n",
    "plt.title('Разброс количества заказов на одного покупателя', fontsize=20)\n",
    "plt.xlabel('Порядковый номер пользователя', fontsize=15)\n",
    "plt.ylabel('Количество заказов', fontsize=15) \n",
    "\n",
    "plt.show()\n",
    "\n",
    "print('95% пользователей в среднем заказывали не чаще {:.0f} раз'.format(np.percentile(orders_by_users['orders'], 95)))\n",
    "print('99% пользователей в среднем заказывали не чаще {:.0f} раз'.format(np.percentile(orders_by_users['orders'], 99)))"
   ]
  },
  {
   "cell_type": "markdown",
   "metadata": {},
   "source": [
    "В основном, пользователи заказывали по 1 разу в рассматриваемый период, однако некоторые возвращались и за повторными покупками, пусть и заметно реже. Будем считать пользователей с 4-мя заказами и более – аномалиями.\n",
    "\n",
    "### Статистическая значимость\n",
    "\n",
    "Найдём p-value конверсий и среднего чека у \"сырых\" и \"очищенных\" данных. Пороговым значением alpha будем считать 0.05\n",
    "\n",
    "Соберём датафрейм с необходимыми для анализа данными."
   ]
  },
  {
   "cell_type": "code",
   "execution_count": 19,
   "metadata": {},
   "outputs": [],
   "source": [
    "visitors_A_daily = visitors[visitors['group'] == 'A'][['date', 'visitors']]\n",
    "visitors_A_daily.columns = ['date', 'visitors_per_date_A']\n",
    "\n",
    "visitors_A_cummulative = visitors_A_daily.apply(\n",
    "    lambda x: visitors_A_daily[visitors_A_daily['date'] <= x['date']].agg(\n",
    "        {'date': 'max', 'visitors_per_date_A': 'sum'}\n",
    "    ),\n",
    "    axis=1,\n",
    ")\n",
    "visitors_A_cummulative.columns = ['date', 'visitors_cummulative_A']\n",
    "\n",
    "visitors_B_daily = visitors[visitors['group'] == 'B'][['date', 'visitors']]\n",
    "visitors_B_daily.columns = ['date', 'visitors_per_date_B']\n",
    "\n",
    "visitors_B_cummulative = visitors_B_daily.apply(\n",
    "    lambda x: visitors_B_daily[visitors_B_daily['date'] <= x['date']].agg(\n",
    "        {'date': 'max', 'visitors_per_date_B': 'sum'}\n",
    "    ),\n",
    "    axis=1,\n",
    ")\n",
    "visitors_B_cummulative.columns = ['date', 'visitors_cummulative_B']\n",
    "\n",
    "orders_A_daily = (\n",
    "    orders[orders['group'] == 'A'][['date', 'transactionId', 'visitorId', 'revenue']]\n",
    "    .groupby('date', as_index=False)\n",
    "    .agg({'transactionId': pd.Series.nunique, 'revenue': 'sum'})\n",
    ")\n",
    "orders_A_daily.columns = ['date', 'orders_per_date_A', 'revenue_per_date_A']\n",
    "\n",
    "orders_A_cummulative = orders_A_daily.apply(\n",
    "    lambda x: orders_A_daily[orders_A_daily['date'] <= x['date']].agg(\n",
    "        {'date': 'max', 'orders_per_date_A': 'sum', 'revenue_per_date_A': 'sum'}\n",
    "    ),\n",
    "    axis=1,\n",
    ").sort_values(by=['date'])\n",
    "orders_A_cummulative.columns = ['date', 'orders_cummulative_A', 'revenue_cummulative_A']\n",
    "\n",
    "orders_B_daily = (\n",
    "    orders[orders['group'] == 'B'][['date', 'transactionId', 'visitorId', 'revenue']]\n",
    "    .groupby('date', as_index=False)\n",
    "    .agg({'transactionId': pd.Series.nunique, 'revenue': 'sum'})\n",
    ")\n",
    "orders_B_daily.columns = ['date', 'orders_per_date_B', 'revenue_per_date_B']\n",
    "\n",
    "ordersBCummulative = orders_B_daily.apply(\n",
    "    lambda x: orders_B_daily[orders_B_daily['date'] <= x['date']].agg(\n",
    "        {'date': 'max', 'orders_per_date_B': 'sum', 'revenue_per_date_B': 'sum'}\n",
    "    ),\n",
    "    axis=1,\n",
    ").sort_values(by=['date'])\n",
    "orders_B_daily.columns = ['date', 'orders_cummulative_B', 'revenue_cummulative_B']\n",
    "\n",
    "data = (\n",
    "    orders_A_daily.merge(\n",
    "        orders_B_daily, left_on='date', right_on='date', how='left'\n",
    "    )\n",
    "    .merge(orders_A_cummulative, left_on='date', right_on='date', how='left')\n",
    "    .merge(ordersBCummulative, left_on='date', right_on='date', how='left')\n",
    "    .merge(visitors_A_daily, left_on='date', right_on='date', how='left')\n",
    "    .merge(visitors_B_daily, left_on='date', right_on='date', how='left')\n",
    "    .merge(visitors_A_cummulative, left_on='date', right_on='date', how='left')\n",
    "    .merge(visitors_B_cummulative, left_on='date', right_on='date', how='left')\n",
    ")\n"
   ]
  },
  {
   "cell_type": "markdown",
   "metadata": {},
   "source": [
    "Найдём число пользователей в группах. И тех, которые делали заказы, и просто посетителей сайта."
   ]
  },
  {
   "cell_type": "code",
   "execution_count": 20,
   "metadata": {},
   "outputs": [],
   "source": [
    "orders_by_users_A = (\n",
    "    orders[orders['group'] == 'A']\n",
    "    .groupby('visitorId', as_index=False)\n",
    "    .agg({'transactionId': pd.Series.nunique})\n",
    ")\n",
    "orders_by_users_A.columns = ['userId', 'orders']\n",
    "\n",
    "orders_by_users_B = (\n",
    "    orders[orders['group'] == 'B']\n",
    "    .groupby('visitorId', as_index=False)\n",
    "    .agg({'transactionId': pd.Series.nunique})\n",
    ")\n",
    "orders_by_users_B.columns = ['userId', 'orders']\n",
    "\n",
    "sample_A = pd.concat(\n",
    "    [\n",
    "        orders_by_users_A['orders'],\n",
    "        pd.Series(\n",
    "            0,\n",
    "            index=np.arange(\n",
    "                data['visitors_per_date_A'].sum() - len(orders_by_users_A['orders'])\n",
    "            ),\n",
    "            name='orders',\n",
    "        ),\n",
    "    ],\n",
    "    axis=0,\n",
    ")\n",
    "\n",
    "sample_B = pd.concat(\n",
    "    [\n",
    "        orders_by_users_B['orders'],\n",
    "        pd.Series(\n",
    "            0,\n",
    "            index=np.arange(\n",
    "                data['visitors_per_date_B'].sum() - len(orders_by_users_B['orders'])\n",
    "            ),\n",
    "            name='orders',\n",
    "        ),\n",
    "    ],\n",
    "    axis=0,\n",
    ")"
   ]
  },
  {
   "cell_type": "markdown",
   "metadata": {},
   "source": [
    "#### Сравнение \"сырых\" данных"
   ]
  },
  {
   "cell_type": "markdown",
   "metadata": {},
   "source": [
    "**Нулевая гипотеза:** статистически значимая разница в конверсии групп A/B-теста отсутствует.\n",
    "\n",
    "**Обратная гипотеза:** конверсии групп A/B-теста статистически значимо отличаются."
   ]
  },
  {
   "cell_type": "code",
   "execution_count": 21,
   "metadata": {},
   "outputs": [
    {
     "name": "stdout",
     "output_type": "stream",
     "text": [
      "p-value конверсий = 0.017\n",
      "разница конверсий = 0.138\n"
     ]
    }
   ],
   "source": [
    "print('p-value конверсий = {0:.3f}'.format(stats.mannwhitneyu(sample_A, sample_B, alternative = 'two-sided')[1]))\n",
    "\n",
    "print('разница конверсий = {0:.3f}'.format(sample_B.mean() / sample_A.mean() - 1))"
   ]
  },
  {
   "cell_type": "markdown",
   "metadata": {},
   "source": [
    "P-value конверсий групп A и B меньше контрольных alpha в 0.05, то есть нулевую гипотезу о равенстве конверсий, исходя из сырых данных, отвергаем и сможем утверждать, что конверсия группы B больше."
   ]
  },
  {
   "cell_type": "markdown",
   "metadata": {},
   "source": [
    "**Нулевая гипотеза:** статистически значимая разница в среднем чеке групп A/B-теста отсутствует.\n",
    "\n",
    "**Обратная гипотеза:** средний чек групп A/B-теста статистически значимо отличается."
   ]
  },
  {
   "cell_type": "code",
   "execution_count": 22,
   "metadata": {},
   "outputs": [
    {
     "name": "stdout",
     "output_type": "stream",
     "text": [
      "p-value среднего чека = 0.729\n",
      "разница среднего чека = 0.259\n"
     ]
    }
   ],
   "source": [
    "print(\n",
    "    'p-value среднего чека = {0:.3f}'\n",
    "    .format(stats.mannwhitneyu(orders[orders['group']=='A']['revenue'], orders[orders['group']=='B']['revenue'], alternative = 'two-sided')[1])\n",
    ")\n",
    "\n",
    "print(\n",
    "    'разница среднего чека = {0:.3f}'\n",
    "    .format(orders[orders['group']=='B']['revenue'].mean()/orders[orders['group']=='A']['revenue'].mean()-1)\n",
    ")"
   ]
  },
  {
   "cell_type": "markdown",
   "metadata": {},
   "source": [
    "P-value среднего чека больше 0.05, то есть отвергнуть нулевую гипотезу о равенстве среднего чека между группами нельзя. При том, что средний чек группы B значительно выше среднего чека группы A.\n",
    "\n",
    "Впрочем, это были выводы по \"сырым\" данным. Избавимся от выбросов и взглянем на результаты ещё раз."
   ]
  },
  {
   "cell_type": "code",
   "execution_count": 23,
   "metadata": {},
   "outputs": [],
   "source": [
    "users_with_many_orders = pd.concat(\n",
    "    [\n",
    "        orders_by_users_A[orders_by_users_A['orders'] > 3]['userId'],\n",
    "        orders_by_users_B[orders_by_users_B['orders'] > 3]['userId'],\n",
    "    ],\n",
    "    axis=0,\n",
    ")\n",
    "users_with_expensive_orders = orders[orders['revenue'] > 58233]['visitorId']\n",
    "\n",
    "abnormal_users = (\n",
    "    pd.concat([users_with_many_orders, users_with_expensive_orders], axis=0)\n",
    "    .drop_duplicates()\n",
    "    .sort_values()\n",
    ")"
   ]
  },
  {
   "cell_type": "code",
   "execution_count": 24,
   "metadata": {},
   "outputs": [],
   "source": [
    "sample_A_filtered = pd.concat(\n",
    "    [\n",
    "        orders_by_users_A[\n",
    "            np.logical_not(orders_by_users_A['userId'].isin(abnormal_users))\n",
    "        ]['orders'],\n",
    "        pd.Series(\n",
    "            0,\n",
    "            index=np.arange(\n",
    "                data['visitors_per_date_A'].sum() - len(orders_by_users_A['orders'])\n",
    "            ),\n",
    "            name='orders',\n",
    "        ),\n",
    "    ],\n",
    "    axis=0,\n",
    ")\n",
    "\n",
    "sample_B_filtered = pd.concat(\n",
    "    [\n",
    "        orders_by_users_B[\n",
    "            np.logical_not(orders_by_users_B['userId'].isin(abnormal_users))\n",
    "        ]['orders'],\n",
    "        pd.Series(\n",
    "            0,\n",
    "            index=np.arange(\n",
    "                data['visitors_per_date_B'].sum() - len(orders_by_users_B['orders'])\n",
    "            ),\n",
    "            name='orders',\n",
    "        ),\n",
    "    ],\n",
    "    axis=0,\n",
    ")"
   ]
  },
  {
   "cell_type": "markdown",
   "metadata": {},
   "source": [
    "#### Сравнение \"очищенных\" данных\n",
    "\n",
    "**Нулевая гипотеза:** статистически значимая разница в конверсии групп A/B-теста отсутствует.\n",
    "\n",
    "**Обратная гипотеза:** конверсии групп A/B-теста статистически значимо отличаются."
   ]
  },
  {
   "cell_type": "code",
   "execution_count": 25,
   "metadata": {},
   "outputs": [
    {
     "name": "stdout",
     "output_type": "stream",
     "text": [
      "p-value конверсий = 0.014\n",
      "разница конверсий = 0.151\n"
     ]
    }
   ],
   "source": [
    "print('p-value конверсий = {0:.3f}'.format(stats.mannwhitneyu(sample_A_filtered, sample_B_filtered, alternative = 'two-sided')[1]))\n",
    "print('разница конверсий = {0:.3f}'.format(sample_B_filtered.mean()/sample_A_filtered.mean()-1))"
   ]
  },
  {
   "cell_type": "markdown",
   "metadata": {},
   "source": [
    "Результаты по конверсии практически не изменились, p-value по-прежнему меньше контрольного значения alpha в 0.05, значит, нулевую гипотезу об отсутствии статистически значимой разницы в конверсии по \"отфильтрованным\" от аномалий данным, отвергаем. Это говорит, что показатель конверсии не так сильно страдает от \"выбросов\" и аномалий в данных. Проверим как дела со средним чеком.\n",
    "\n",
    "**Нулевая гипотеза:** статистически значимая разница в среднем чеке групп A/B-теста отсутствует.\n",
    "\n",
    "**Обратная гипотеза:** средний чек групп A/B-теста статистически значимо отличается."
   ]
  },
  {
   "cell_type": "code",
   "execution_count": 26,
   "metadata": {},
   "outputs": [
    {
     "name": "stdout",
     "output_type": "stream",
     "text": [
      "p-value среднего чека = 0.959\n",
      "разница среднего чека = -0.014\n"
     ]
    }
   ],
   "source": [
    "print(\n",
    "    'p-value среднего чека = {0:.3f}'.format(\n",
    "        stats.mannwhitneyu(\n",
    "            orders[\n",
    "                np.logical_and(\n",
    "                    orders['group'] == 'A',\n",
    "                    np.logical_not(orders['visitorId'].isin(abnormal_users)),\n",
    "                )\n",
    "            ]['revenue'],\n",
    "            orders[\n",
    "                np.logical_and(\n",
    "                    orders['group'] == 'B',\n",
    "                    np.logical_not(orders['visitorId'].isin(abnormal_users)),\n",
    "                )\n",
    "            ]['revenue'], alternative = 'two-sided',\n",
    "        )[1]\n",
    "    )\n",
    ")\n",
    "\n",
    "print(\n",
    "    'разница среднего чека = {0:.3f}'.format(\n",
    "        orders[\n",
    "            np.logical_and(\n",
    "                orders['group'] == 'B',\n",
    "                np.logical_not(orders['visitorId'].isin(abnormal_users)),\n",
    "            )\n",
    "        ]['revenue'].mean()\n",
    "        / orders[\n",
    "            np.logical_and(\n",
    "                orders['group'] == 'A',\n",
    "                np.logical_not(orders['visitorId'].isin(abnormal_users)),\n",
    "            )\n",
    "        ]['revenue'].mean()\n",
    "        - 1\n",
    "    )\n",
    ")"
   ]
  },
  {
   "cell_type": "markdown",
   "metadata": {},
   "source": [
    "Избавившись от аномально дорогих покупок, искажающих результаты A/B-теста, мы получили ещё более высокий p-value по среднему чеку, что делает результат более достоверным. А так же разница в среднем чеке теперь в пользу группы A."
   ]
  },
  {
   "cell_type": "markdown",
   "metadata": {},
   "source": [
    "#### Вывод\n",
    "\n",
    "- существует статистически значимое различие между группами по показателю конверсии как по \"сырым\", так и по \"очищенным\" данным. Эта разница в пользу группы B;\n",
    "- различия групп по показателю среднего чека нет как в \"сыром\", так и в \"очищенном\" варианте. Но, при фильтрации аномалий, существенное преимущество группы B меняется на незначительное в пользу группы A;\n",
    "- график \"Отношение конверсии группы B к группе A\" показывает, что проверяемая гипотеза увеличивает конверсию контрольной группы B;\n",
    "- исходя их проверки статистической значимости и разницы средних показателей среднего чека, можно сделать вывод, что в проверяемая гипотеза не приводит к увеличению среднего чека контрольной группы B по сравнению с базовой группой A."
   ]
  },
  {
   "cell_type": "markdown",
   "metadata": {},
   "source": [
    "## Отчёт\n",
    "\n",
    "На старте выполнения проекта, мы получили 3 дата фрейма:\n",
    "   1. гипотезы с метриками;\n",
    "   2. количество посетителей каждой группы во все дни проведения теста;\n",
    "   3. список заказов, сделанных за время проведения теста, с указанием группы покупателя.\n",
    "\n",
    "В ходе выполнения работы, мы импортировали данные, ознакомились с ними, оценили наличие пропусков и **обнаружили пересечения в группах покупателей**: то есть, в списке заказов групп A и B есть одни и те же покупатели. В реальной работе, мы бы приостановили тест, до устранения проблемы, так как этот факт критичен для достоверности результатов исследования. В рамках обучения, отметим это как урок на будущее, что подобную проверку стоит проводить всегда, чтобы не потерять в валидности и легитимности результатов исследования.\n",
    "\n",
    "На этапе предобработки мы лишь заменили столбцы с датами на подходящий формат и узнали, что категориальные переменные не подвергаются ранжированию, то есть к ним не применимы математические методы типа 'max' и 'min'.\n",
    "\n",
    "Далее мы приступили к ранжированию гипотез, предложенных маркетинговым отделом. По заранее известным оценкам (охват, влияние, уверенность, усилия) мы **оценили 9 гипотез, применив фреймворки ICE и RICE, получив итоговый рейтинг каждой**. Это помогло определиться с выбором, какую гипотезу нам следовало бы проверять первым делом в реальной работе аналитика.\n",
    "\n",
    "После мы перешли к непосредственно анализу результатов A/B-теста:\n",
    "   - найдя куммулятивные показатели, мы сравнили накопленные выручку, средний чек и конверсию по группам, а так же построили графики относительного изменения кумулятивного среднего чека и конверсии группы B к группе A. **Показатели группы B выглядят предпочтительнее, но на графиках видны \"всплески\".**\n",
    "   - чтобы избавиться от статистических неточностей, мы провели анализ выбросов и всплесков. В результате, мы пришли к выводу, что **заказы дороже 58233 у.е. и количество заказов больше 3-х на одного пользователя за период проведения теста являются аномалиями** и их следует исключить из анализируемой области, чтобы повысить точность результатов и выводов.\n",
    "   - при помощи статистического метода st.mannwhitneyu() (U-критерия Манна-Уитни), мы нашли статистические значимости гипотез о равенстве среднего чека и конверсий по \"сырым\" и \"очищенным\" данным. После сравнения полученных p-value с контрольным значением alpha = 0.05, мы можем утверждать, что:\n",
    "       1. **статистически значимой разницы в показателе среднего чека групп A и B нет как в данных с \"шумами\", так и в выборке после фильтрации аномальных значений;**\n",
    "       2. **существует статистически значимая разница в конверсии между группами A и B. Эта разница \"в пользу\" группы B.**\n",
    "\n",
    "**Рекомендация:** A/B-тест можно завершать. Проверяемая гипотеза подходит для увеличения конверсии, но для роста среднего чека нужно придумать что-нибудь другое."
   ]
  }
 ],
 "metadata": {
  "ExecuteTimeLog": [
   {
    "duration": 1534,
    "start_time": "2021-11-21T19:13:12.343Z"
   },
   {
    "duration": 107,
    "start_time": "2021-11-21T19:14:39.320Z"
   },
   {
    "duration": 23,
    "start_time": "2021-11-21T19:16:55.615Z"
   },
   {
    "duration": 16,
    "start_time": "2021-11-21T19:17:20.566Z"
   },
   {
    "duration": 16,
    "start_time": "2021-11-21T19:17:21.404Z"
   },
   {
    "duration": 19,
    "start_time": "2021-11-21T19:18:31.174Z"
   },
   {
    "duration": 28,
    "start_time": "2021-11-21T19:18:39.278Z"
   },
   {
    "duration": 5,
    "start_time": "2021-11-21T19:31:33.563Z"
   },
   {
    "duration": 1974,
    "start_time": "2021-11-21T19:36:10.301Z"
   },
   {
    "duration": 1305,
    "start_time": "2021-11-21T19:37:07.114Z"
   },
   {
    "duration": 93,
    "start_time": "2021-11-21T19:37:08.421Z"
   },
   {
    "duration": 21,
    "start_time": "2021-11-21T19:37:08.517Z"
   },
   {
    "duration": 20,
    "start_time": "2021-11-21T19:37:08.541Z"
   },
   {
    "duration": 21,
    "start_time": "2021-11-21T19:37:08.564Z"
   },
   {
    "duration": 26,
    "start_time": "2021-11-21T19:37:08.587Z"
   },
   {
    "duration": 19,
    "start_time": "2021-11-21T19:37:25.263Z"
   },
   {
    "duration": 5,
    "start_time": "2021-11-21T20:04:43.237Z"
   },
   {
    "duration": 34,
    "start_time": "2021-11-21T20:07:12.018Z"
   },
   {
    "duration": 19,
    "start_time": "2021-11-21T20:07:28.282Z"
   },
   {
    "duration": 14,
    "start_time": "2021-11-21T20:07:51.502Z"
   },
   {
    "duration": 15,
    "start_time": "2021-11-21T20:08:50.012Z"
   },
   {
    "duration": 1303,
    "start_time": "2021-11-21T20:22:40.203Z"
   },
   {
    "duration": 109,
    "start_time": "2021-11-21T20:22:41.508Z"
   },
   {
    "duration": 25,
    "start_time": "2021-11-21T20:22:41.621Z"
   },
   {
    "duration": 19,
    "start_time": "2021-11-21T20:22:41.649Z"
   },
   {
    "duration": 21,
    "start_time": "2021-11-21T20:22:41.670Z"
   },
   {
    "duration": 26,
    "start_time": "2021-11-21T20:22:41.694Z"
   },
   {
    "duration": 20,
    "start_time": "2021-11-21T20:22:41.759Z"
   },
   {
    "duration": 16,
    "start_time": "2021-11-21T20:22:41.784Z"
   },
   {
    "duration": 1095,
    "start_time": "2021-11-22T09:48:57.605Z"
   },
   {
    "duration": 62,
    "start_time": "2021-11-22T09:48:58.702Z"
   },
   {
    "duration": 15,
    "start_time": "2021-11-22T09:48:58.766Z"
   },
   {
    "duration": 12,
    "start_time": "2021-11-22T09:48:58.783Z"
   },
   {
    "duration": 16,
    "start_time": "2021-11-22T09:48:58.797Z"
   },
   {
    "duration": 34,
    "start_time": "2021-11-22T09:48:58.816Z"
   },
   {
    "duration": 16,
    "start_time": "2021-11-22T09:48:58.852Z"
   },
   {
    "duration": 12,
    "start_time": "2021-11-22T09:48:58.871Z"
   },
   {
    "duration": 378,
    "start_time": "2021-11-22T10:14:20.996Z"
   },
   {
    "duration": 926,
    "start_time": "2021-11-22T10:14:30.780Z"
   },
   {
    "duration": 817,
    "start_time": "2021-11-22T10:16:40.560Z"
   },
   {
    "duration": 882,
    "start_time": "2021-11-22T10:17:45.366Z"
   },
   {
    "duration": 6,
    "start_time": "2021-11-22T10:20:33.978Z"
   },
   {
    "duration": 1162,
    "start_time": "2021-11-22T10:21:59.211Z"
   },
   {
    "duration": 63,
    "start_time": "2021-11-22T10:22:00.375Z"
   },
   {
    "duration": 15,
    "start_time": "2021-11-22T10:22:00.440Z"
   },
   {
    "duration": 20,
    "start_time": "2021-11-22T10:22:00.457Z"
   },
   {
    "duration": 16,
    "start_time": "2021-11-22T10:22:00.479Z"
   },
   {
    "duration": 16,
    "start_time": "2021-11-22T10:22:00.496Z"
   },
   {
    "duration": 35,
    "start_time": "2021-11-22T10:22:00.514Z"
   },
   {
    "duration": 10,
    "start_time": "2021-11-22T10:22:00.551Z"
   },
   {
    "duration": 18,
    "start_time": "2021-11-22T10:22:00.564Z"
   },
   {
    "duration": 1156,
    "start_time": "2021-11-22T10:22:00.584Z"
   },
   {
    "duration": 929,
    "start_time": "2021-11-22T10:27:32.057Z"
   },
   {
    "duration": 833,
    "start_time": "2021-11-22T10:27:48.353Z"
   },
   {
    "duration": 4011,
    "start_time": "2021-11-22T10:28:18.330Z"
   },
   {
    "duration": 837,
    "start_time": "2021-11-22T10:28:37.759Z"
   },
   {
    "duration": 4014,
    "start_time": "2021-11-22T10:29:18.844Z"
   },
   {
    "duration": 853,
    "start_time": "2021-11-22T10:29:28.011Z"
   },
   {
    "duration": 6,
    "start_time": "2021-11-22T10:29:44.787Z"
   },
   {
    "duration": 8,
    "start_time": "2021-11-22T10:30:01.978Z"
   },
   {
    "duration": 13,
    "start_time": "2021-11-22T10:31:24.482Z"
   },
   {
    "duration": 973,
    "start_time": "2021-11-22T10:31:30.291Z"
   },
   {
    "duration": 748,
    "start_time": "2021-11-22T10:34:54.727Z"
   },
   {
    "duration": 9,
    "start_time": "2021-11-22T10:35:14.083Z"
   },
   {
    "duration": 800,
    "start_time": "2021-11-22T10:35:14.710Z"
   },
   {
    "duration": 872,
    "start_time": "2021-11-22T10:35:38.735Z"
   },
   {
    "duration": 822,
    "start_time": "2021-11-22T10:35:42.734Z"
   },
   {
    "duration": 10,
    "start_time": "2021-11-22T10:37:56.548Z"
   },
   {
    "duration": 969,
    "start_time": "2021-11-22T10:38:03.832Z"
   },
   {
    "duration": 9,
    "start_time": "2021-11-22T10:38:53.944Z"
   },
   {
    "duration": 1050,
    "start_time": "2021-11-22T10:39:34.967Z"
   },
   {
    "duration": 63,
    "start_time": "2021-11-22T10:39:36.019Z"
   },
   {
    "duration": 17,
    "start_time": "2021-11-22T10:39:36.085Z"
   },
   {
    "duration": 14,
    "start_time": "2021-11-22T10:39:36.104Z"
   },
   {
    "duration": 15,
    "start_time": "2021-11-22T10:39:36.120Z"
   },
   {
    "duration": 15,
    "start_time": "2021-11-22T10:39:36.137Z"
   },
   {
    "duration": 30,
    "start_time": "2021-11-22T10:39:36.154Z"
   },
   {
    "duration": 11,
    "start_time": "2021-11-22T10:39:36.185Z"
   },
   {
    "duration": 9,
    "start_time": "2021-11-22T10:39:36.198Z"
   },
   {
    "duration": 12,
    "start_time": "2021-11-22T10:39:36.209Z"
   },
   {
    "duration": 231,
    "start_time": "2021-11-22T10:39:36.223Z"
   },
   {
    "duration": 9,
    "start_time": "2021-11-22T10:40:08.601Z"
   },
   {
    "duration": 213,
    "start_time": "2021-11-22T10:40:09.153Z"
   },
   {
    "duration": 1054,
    "start_time": "2021-11-22T10:43:28.959Z"
   },
   {
    "duration": 66,
    "start_time": "2021-11-22T10:43:30.015Z"
   },
   {
    "duration": 18,
    "start_time": "2021-11-22T10:43:30.086Z"
   },
   {
    "duration": 25,
    "start_time": "2021-11-22T10:43:30.106Z"
   },
   {
    "duration": 18,
    "start_time": "2021-11-22T10:43:30.133Z"
   },
   {
    "duration": 16,
    "start_time": "2021-11-22T10:43:30.153Z"
   },
   {
    "duration": 21,
    "start_time": "2021-11-22T10:43:30.172Z"
   },
   {
    "duration": 14,
    "start_time": "2021-11-22T10:43:30.195Z"
   },
   {
    "duration": 380,
    "start_time": "2021-11-22T10:43:30.211Z"
   },
   {
    "duration": 677,
    "start_time": "2021-11-22T10:49:18.763Z"
   },
   {
    "duration": 355,
    "start_time": "2021-11-22T10:49:36.847Z"
   },
   {
    "duration": 350,
    "start_time": "2021-11-22T10:53:55.756Z"
   },
   {
    "duration": 468,
    "start_time": "2021-11-22T11:00:41.547Z"
   },
   {
    "duration": 201,
    "start_time": "2021-11-22T11:01:12.323Z"
   },
   {
    "duration": 209,
    "start_time": "2021-11-22T11:01:17.355Z"
   },
   {
    "duration": 685,
    "start_time": "2021-11-22T11:01:50.557Z"
   },
   {
    "duration": 228,
    "start_time": "2021-11-22T11:02:06.772Z"
   },
   {
    "duration": 211,
    "start_time": "2021-11-22T11:02:35.879Z"
   },
   {
    "duration": 215,
    "start_time": "2021-11-22T11:02:44.710Z"
   },
   {
    "duration": 215,
    "start_time": "2021-11-22T11:02:59.700Z"
   },
   {
    "duration": 188,
    "start_time": "2021-11-22T11:03:59.297Z"
   },
   {
    "duration": 364,
    "start_time": "2021-11-22T11:04:12.126Z"
   },
   {
    "duration": 317,
    "start_time": "2021-11-22T11:07:38.740Z"
   },
   {
    "duration": 287,
    "start_time": "2021-11-22T11:11:27.587Z"
   },
   {
    "duration": 570,
    "start_time": "2021-11-22T11:18:13.090Z"
   },
   {
    "duration": 406,
    "start_time": "2021-11-22T11:18:52.400Z"
   },
   {
    "duration": 6,
    "start_time": "2021-11-22T11:24:39.538Z"
   },
   {
    "duration": 12,
    "start_time": "2021-11-22T11:30:12.572Z"
   },
   {
    "duration": 12,
    "start_time": "2021-11-22T11:31:07.653Z"
   },
   {
    "duration": 432,
    "start_time": "2021-11-22T11:31:39.255Z"
   },
   {
    "duration": 407,
    "start_time": "2021-11-22T11:31:48.176Z"
   },
   {
    "duration": 306,
    "start_time": "2021-11-22T11:37:29.951Z"
   },
   {
    "duration": 313,
    "start_time": "2021-11-22T11:37:51.448Z"
   },
   {
    "duration": 428,
    "start_time": "2021-11-22T11:41:51.140Z"
   },
   {
    "duration": 386,
    "start_time": "2021-11-22T11:42:23.099Z"
   },
   {
    "duration": 1038,
    "start_time": "2021-11-22T11:46:58.069Z"
   },
   {
    "duration": 65,
    "start_time": "2021-11-22T11:46:59.109Z"
   },
   {
    "duration": 16,
    "start_time": "2021-11-22T11:46:59.176Z"
   },
   {
    "duration": 12,
    "start_time": "2021-11-22T11:46:59.194Z"
   },
   {
    "duration": 14,
    "start_time": "2021-11-22T11:46:59.208Z"
   },
   {
    "duration": 14,
    "start_time": "2021-11-22T11:46:59.223Z"
   },
   {
    "duration": 11,
    "start_time": "2021-11-22T11:46:59.239Z"
   },
   {
    "duration": 9,
    "start_time": "2021-11-22T11:46:59.251Z"
   },
   {
    "duration": 356,
    "start_time": "2021-11-22T11:46:59.262Z"
   },
   {
    "duration": 300,
    "start_time": "2021-11-22T11:46:59.620Z"
   },
   {
    "duration": 315,
    "start_time": "2021-11-22T11:46:59.921Z"
   },
   {
    "duration": 18,
    "start_time": "2021-11-22T11:47:00.237Z"
   },
   {
    "duration": 401,
    "start_time": "2021-11-22T11:47:00.257Z"
   },
   {
    "duration": 299,
    "start_time": "2021-11-22T11:47:00.659Z"
   },
   {
    "duration": 389,
    "start_time": "2021-11-22T11:47:00.960Z"
   },
   {
    "duration": 127,
    "start_time": "2021-11-22T11:54:22.800Z"
   },
   {
    "duration": 318,
    "start_time": "2021-11-22T11:54:27.675Z"
   },
   {
    "duration": 7,
    "start_time": "2021-11-22T12:09:49.046Z"
   },
   {
    "duration": 291,
    "start_time": "2021-11-22T12:12:40.303Z"
   },
   {
    "duration": 329,
    "start_time": "2021-11-22T12:14:25.047Z"
   },
   {
    "duration": 503,
    "start_time": "2021-11-22T12:14:49.956Z"
   },
   {
    "duration": 389,
    "start_time": "2021-11-22T12:17:20.312Z"
   },
   {
    "duration": 385,
    "start_time": "2021-11-22T12:18:30.910Z"
   },
   {
    "duration": 414,
    "start_time": "2021-11-22T12:20:21.014Z"
   },
   {
    "duration": 413,
    "start_time": "2021-11-22T12:21:41.378Z"
   },
   {
    "duration": 930,
    "start_time": "2021-11-22T12:21:53.758Z"
   },
   {
    "duration": 752,
    "start_time": "2021-11-22T12:21:58.586Z"
   },
   {
    "duration": 745,
    "start_time": "2021-11-22T12:22:02.166Z"
   },
   {
    "duration": 414,
    "start_time": "2021-11-22T12:22:17.615Z"
   },
   {
    "duration": 945,
    "start_time": "2021-11-22T12:22:34.445Z"
   },
   {
    "duration": 410,
    "start_time": "2021-11-22T12:23:55.872Z"
   },
   {
    "duration": 492,
    "start_time": "2021-11-22T12:24:06.867Z"
   },
   {
    "duration": 636,
    "start_time": "2021-11-22T13:00:01.920Z"
   },
   {
    "duration": 422,
    "start_time": "2021-11-22T13:00:18.732Z"
   },
   {
    "duration": 490,
    "start_time": "2021-11-22T13:00:45.744Z"
   },
   {
    "duration": 481,
    "start_time": "2021-11-22T13:01:23.695Z"
   },
   {
    "duration": 481,
    "start_time": "2021-11-22T13:01:42.861Z"
   },
   {
    "duration": 513,
    "start_time": "2021-11-22T13:02:33.225Z"
   },
   {
    "duration": 6,
    "start_time": "2021-11-22T13:48:47.644Z"
   },
   {
    "duration": 250,
    "start_time": "2021-11-22T13:49:48.155Z"
   },
   {
    "duration": 6,
    "start_time": "2021-11-22T13:55:22.165Z"
   },
   {
    "duration": 107,
    "start_time": "2021-11-22T13:57:38.164Z"
   },
   {
    "duration": 9,
    "start_time": "2021-11-22T13:59:31.151Z"
   },
   {
    "duration": 1012,
    "start_time": "2021-11-22T14:00:35.670Z"
   },
   {
    "duration": 63,
    "start_time": "2021-11-22T14:00:36.684Z"
   },
   {
    "duration": 16,
    "start_time": "2021-11-22T14:00:36.749Z"
   },
   {
    "duration": 13,
    "start_time": "2021-11-22T14:00:36.767Z"
   },
   {
    "duration": 15,
    "start_time": "2021-11-22T14:00:36.782Z"
   },
   {
    "duration": 46,
    "start_time": "2021-11-22T14:00:36.799Z"
   },
   {
    "duration": 13,
    "start_time": "2021-11-22T14:00:36.847Z"
   },
   {
    "duration": 10,
    "start_time": "2021-11-22T14:00:36.862Z"
   },
   {
    "duration": 347,
    "start_time": "2021-11-22T14:00:36.874Z"
   },
   {
    "duration": 302,
    "start_time": "2021-11-22T14:00:37.222Z"
   },
   {
    "duration": 279,
    "start_time": "2021-11-22T14:00:37.526Z"
   },
   {
    "duration": 13,
    "start_time": "2021-11-22T14:00:37.807Z"
   },
   {
    "duration": 414,
    "start_time": "2021-11-22T14:00:37.821Z"
   },
   {
    "duration": 389,
    "start_time": "2021-11-22T14:00:38.237Z"
   },
   {
    "duration": 399,
    "start_time": "2021-11-22T14:00:38.628Z"
   },
   {
    "duration": 383,
    "start_time": "2021-11-22T14:00:39.030Z"
   },
   {
    "duration": -27,
    "start_time": "2021-11-22T14:00:39.442Z"
   },
   {
    "duration": -30,
    "start_time": "2021-11-22T14:00:39.446Z"
   },
   {
    "duration": -34,
    "start_time": "2021-11-22T14:00:39.450Z"
   },
   {
    "duration": -35,
    "start_time": "2021-11-22T14:00:39.452Z"
   },
   {
    "duration": 1117,
    "start_time": "2021-11-22T14:01:10.173Z"
   },
   {
    "duration": 60,
    "start_time": "2021-11-22T14:01:11.292Z"
   },
   {
    "duration": 12,
    "start_time": "2021-11-22T14:01:11.355Z"
   },
   {
    "duration": 12,
    "start_time": "2021-11-22T14:01:11.369Z"
   },
   {
    "duration": 14,
    "start_time": "2021-11-22T14:01:11.382Z"
   },
   {
    "duration": 13,
    "start_time": "2021-11-22T14:01:11.398Z"
   },
   {
    "duration": 38,
    "start_time": "2021-11-22T14:01:11.413Z"
   },
   {
    "duration": 9,
    "start_time": "2021-11-22T14:01:11.454Z"
   },
   {
    "duration": 350,
    "start_time": "2021-11-22T14:01:11.465Z"
   },
   {
    "duration": 302,
    "start_time": "2021-11-22T14:01:11.817Z"
   },
   {
    "duration": 294,
    "start_time": "2021-11-22T14:01:12.121Z"
   },
   {
    "duration": 12,
    "start_time": "2021-11-22T14:01:12.417Z"
   },
   {
    "duration": 403,
    "start_time": "2021-11-22T14:01:12.431Z"
   },
   {
    "duration": 302,
    "start_time": "2021-11-22T14:01:12.836Z"
   },
   {
    "duration": 396,
    "start_time": "2021-11-22T14:01:13.143Z"
   },
   {
    "duration": 375,
    "start_time": "2021-11-22T14:01:13.541Z"
   },
   {
    "duration": 452,
    "start_time": "2021-11-22T14:01:13.918Z"
   },
   {
    "duration": 314,
    "start_time": "2021-11-22T14:01:14.372Z"
   },
   {
    "duration": 131,
    "start_time": "2021-11-22T14:01:14.688Z"
   },
   {
    "duration": 25,
    "start_time": "2021-11-22T14:01:14.821Z"
   },
   {
    "duration": 112,
    "start_time": "2021-11-22T14:03:37.779Z"
   },
   {
    "duration": 10,
    "start_time": "2021-11-22T14:09:39.701Z"
   },
   {
    "duration": 1203,
    "start_time": "2021-11-22T14:19:23.262Z"
   },
   {
    "duration": 66,
    "start_time": "2021-11-22T14:19:24.467Z"
   },
   {
    "duration": 29,
    "start_time": "2021-11-22T14:19:24.535Z"
   },
   {
    "duration": 14,
    "start_time": "2021-11-22T14:19:24.568Z"
   },
   {
    "duration": 16,
    "start_time": "2021-11-22T14:19:24.583Z"
   },
   {
    "duration": 27,
    "start_time": "2021-11-22T14:19:24.601Z"
   },
   {
    "duration": 25,
    "start_time": "2021-11-22T14:19:24.629Z"
   },
   {
    "duration": 18,
    "start_time": "2021-11-22T14:19:24.656Z"
   },
   {
    "duration": 405,
    "start_time": "2021-11-22T14:19:24.677Z"
   },
   {
    "duration": 326,
    "start_time": "2021-11-22T14:19:25.084Z"
   },
   {
    "duration": 316,
    "start_time": "2021-11-22T14:19:25.411Z"
   },
   {
    "duration": 22,
    "start_time": "2021-11-22T14:19:25.728Z"
   },
   {
    "duration": 428,
    "start_time": "2021-11-22T14:19:25.752Z"
   },
   {
    "duration": 334,
    "start_time": "2021-11-22T14:19:26.182Z"
   },
   {
    "duration": 452,
    "start_time": "2021-11-22T14:19:26.518Z"
   },
   {
    "duration": 420,
    "start_time": "2021-11-22T14:19:26.972Z"
   },
   {
    "duration": 552,
    "start_time": "2021-11-22T14:19:27.394Z"
   },
   {
    "duration": 440,
    "start_time": "2021-11-22T14:19:27.948Z"
   },
   {
    "duration": 237,
    "start_time": "2021-11-22T14:19:28.397Z"
   },
   {
    "duration": 14,
    "start_time": "2021-11-22T14:19:28.639Z"
   },
   {
    "duration": 359,
    "start_time": "2021-11-22T14:19:28.656Z"
   },
   {
    "duration": 7956,
    "start_time": "2021-11-22T14:21:10.654Z"
   },
   {
    "duration": 8,
    "start_time": "2021-11-22T14:23:41.130Z"
   },
   {
    "duration": 4,
    "start_time": "2021-11-22T14:23:58.096Z"
   },
   {
    "duration": 359,
    "start_time": "2021-11-22T14:26:53.342Z"
   },
   {
    "duration": 9,
    "start_time": "2021-11-22T14:27:04.629Z"
   },
   {
    "duration": 7,
    "start_time": "2021-11-22T14:27:06.474Z"
   },
   {
    "duration": 15,
    "start_time": "2021-11-22T14:31:33.016Z"
   },
   {
    "duration": 1118,
    "start_time": "2021-11-22T14:36:29.686Z"
   },
   {
    "duration": 62,
    "start_time": "2021-11-22T14:36:30.806Z"
   },
   {
    "duration": 15,
    "start_time": "2021-11-22T14:36:30.870Z"
   },
   {
    "duration": 12,
    "start_time": "2021-11-22T14:36:30.887Z"
   },
   {
    "duration": 20,
    "start_time": "2021-11-22T14:36:30.901Z"
   },
   {
    "duration": 28,
    "start_time": "2021-11-22T14:36:30.923Z"
   },
   {
    "duration": 27,
    "start_time": "2021-11-22T14:36:30.953Z"
   },
   {
    "duration": 18,
    "start_time": "2021-11-22T14:36:30.984Z"
   },
   {
    "duration": 554,
    "start_time": "2021-11-22T14:36:31.006Z"
   },
   {
    "duration": 408,
    "start_time": "2021-11-22T14:36:31.562Z"
   },
   {
    "duration": 316,
    "start_time": "2021-11-22T14:36:31.972Z"
   },
   {
    "duration": 12,
    "start_time": "2021-11-22T14:36:32.290Z"
   },
   {
    "duration": 405,
    "start_time": "2021-11-22T14:36:32.304Z"
   },
   {
    "duration": 305,
    "start_time": "2021-11-22T14:36:32.711Z"
   },
   {
    "duration": 424,
    "start_time": "2021-11-22T14:36:33.018Z"
   },
   {
    "duration": 387,
    "start_time": "2021-11-22T14:36:33.444Z"
   },
   {
    "duration": 496,
    "start_time": "2021-11-22T14:36:33.833Z"
   },
   {
    "duration": 283,
    "start_time": "2021-11-22T14:36:34.331Z"
   },
   {
    "duration": 128,
    "start_time": "2021-11-22T14:36:34.616Z"
   },
   {
    "duration": 8,
    "start_time": "2021-11-22T14:36:34.746Z"
   },
   {
    "duration": 10,
    "start_time": "2021-11-22T14:36:34.755Z"
   },
   {
    "duration": 7,
    "start_time": "2021-11-22T14:36:34.766Z"
   },
   {
    "duration": 7,
    "start_time": "2021-11-22T14:36:34.777Z"
   },
   {
    "duration": 10,
    "start_time": "2021-11-22T14:36:34.786Z"
   },
   {
    "duration": 50,
    "start_time": "2021-11-22T14:36:34.798Z"
   },
   {
    "duration": 1017,
    "start_time": "2021-11-22T14:54:49.881Z"
   },
   {
    "duration": 63,
    "start_time": "2021-11-22T14:54:50.900Z"
   },
   {
    "duration": 14,
    "start_time": "2021-11-22T14:54:50.966Z"
   },
   {
    "duration": 12,
    "start_time": "2021-11-22T14:54:50.982Z"
   },
   {
    "duration": 15,
    "start_time": "2021-11-22T14:54:50.995Z"
   },
   {
    "duration": 14,
    "start_time": "2021-11-22T14:54:51.012Z"
   },
   {
    "duration": 34,
    "start_time": "2021-11-22T14:54:51.027Z"
   },
   {
    "duration": 10,
    "start_time": "2021-11-22T14:54:51.064Z"
   },
   {
    "duration": 390,
    "start_time": "2021-11-22T14:54:51.078Z"
   },
   {
    "duration": 331,
    "start_time": "2021-11-22T14:54:51.470Z"
   },
   {
    "duration": 316,
    "start_time": "2021-11-22T14:54:51.803Z"
   },
   {
    "duration": 12,
    "start_time": "2021-11-22T14:54:52.121Z"
   },
   {
    "duration": 449,
    "start_time": "2021-11-22T14:54:52.134Z"
   },
   {
    "duration": 391,
    "start_time": "2021-11-22T14:54:52.585Z"
   },
   {
    "duration": 376,
    "start_time": "2021-11-22T14:54:52.978Z"
   },
   {
    "duration": 366,
    "start_time": "2021-11-22T14:54:53.357Z"
   },
   {
    "duration": 487,
    "start_time": "2021-11-22T14:54:53.725Z"
   },
   {
    "duration": 281,
    "start_time": "2021-11-22T14:54:54.214Z"
   },
   {
    "duration": 125,
    "start_time": "2021-11-22T14:54:54.497Z"
   },
   {
    "duration": 9,
    "start_time": "2021-11-22T14:54:54.624Z"
   },
   {
    "duration": 14,
    "start_time": "2021-11-22T14:54:54.644Z"
   },
   {
    "duration": 9,
    "start_time": "2021-11-22T14:54:54.661Z"
   },
   {
    "duration": 8,
    "start_time": "2021-11-22T14:54:54.672Z"
   },
   {
    "duration": 10,
    "start_time": "2021-11-22T14:54:54.682Z"
   },
   {
    "duration": 14,
    "start_time": "2021-11-22T14:54:54.694Z"
   },
   {
    "duration": 1430,
    "start_time": "2021-11-22T18:09:16.489Z"
   },
   {
    "duration": 71,
    "start_time": "2021-11-22T18:09:17.921Z"
   },
   {
    "duration": 24,
    "start_time": "2021-11-22T18:09:17.995Z"
   },
   {
    "duration": 20,
    "start_time": "2021-11-22T18:09:18.022Z"
   },
   {
    "duration": 59,
    "start_time": "2021-11-22T18:09:18.044Z"
   },
   {
    "duration": 501,
    "start_time": "2021-11-22T18:09:18.105Z"
   },
   {
    "duration": -2,
    "start_time": "2021-11-22T18:09:18.611Z"
   },
   {
    "duration": -5,
    "start_time": "2021-11-22T18:09:18.615Z"
   },
   {
    "duration": -5,
    "start_time": "2021-11-22T18:09:18.617Z"
   },
   {
    "duration": -6,
    "start_time": "2021-11-22T18:09:18.619Z"
   },
   {
    "duration": -6,
    "start_time": "2021-11-22T18:09:18.621Z"
   },
   {
    "duration": -8,
    "start_time": "2021-11-22T18:09:18.624Z"
   },
   {
    "duration": -7,
    "start_time": "2021-11-22T18:09:18.625Z"
   },
   {
    "duration": -9,
    "start_time": "2021-11-22T18:09:18.628Z"
   },
   {
    "duration": -10,
    "start_time": "2021-11-22T18:09:18.630Z"
   },
   {
    "duration": -10,
    "start_time": "2021-11-22T18:09:18.632Z"
   },
   {
    "duration": -11,
    "start_time": "2021-11-22T18:09:18.634Z"
   },
   {
    "duration": -11,
    "start_time": "2021-11-22T18:09:18.636Z"
   },
   {
    "duration": -12,
    "start_time": "2021-11-22T18:09:18.638Z"
   },
   {
    "duration": -12,
    "start_time": "2021-11-22T18:09:18.640Z"
   },
   {
    "duration": -12,
    "start_time": "2021-11-22T18:09:18.641Z"
   },
   {
    "duration": -12,
    "start_time": "2021-11-22T18:09:18.643Z"
   },
   {
    "duration": -14,
    "start_time": "2021-11-22T18:09:18.646Z"
   },
   {
    "duration": -14,
    "start_time": "2021-11-22T18:09:18.648Z"
   },
   {
    "duration": -15,
    "start_time": "2021-11-22T18:09:18.650Z"
   },
   {
    "duration": -23,
    "start_time": "2021-11-22T18:09:18.660Z"
   },
   {
    "duration": 2009,
    "start_time": "2021-11-22T18:09:48.745Z"
   },
   {
    "duration": 66,
    "start_time": "2021-11-22T18:09:50.757Z"
   },
   {
    "duration": 21,
    "start_time": "2021-11-22T18:09:50.826Z"
   },
   {
    "duration": 19,
    "start_time": "2021-11-22T18:09:50.851Z"
   },
   {
    "duration": 25,
    "start_time": "2021-11-22T18:09:50.872Z"
   },
   {
    "duration": 37,
    "start_time": "2021-11-22T18:09:50.900Z"
   },
   {
    "duration": 49,
    "start_time": "2021-11-22T18:09:50.940Z"
   },
   {
    "duration": 17,
    "start_time": "2021-11-22T18:09:50.992Z"
   },
   {
    "duration": 604,
    "start_time": "2021-11-22T18:09:51.013Z"
   },
   {
    "duration": 512,
    "start_time": "2021-11-22T18:09:51.620Z"
   },
   {
    "duration": 510,
    "start_time": "2021-11-22T18:09:52.134Z"
   },
   {
    "duration": 40,
    "start_time": "2021-11-22T18:09:52.647Z"
   },
   {
    "duration": 751,
    "start_time": "2021-11-22T18:09:52.691Z"
   },
   {
    "duration": 714,
    "start_time": "2021-11-22T18:09:53.445Z"
   },
   {
    "duration": 775,
    "start_time": "2021-11-22T18:09:54.162Z"
   },
   {
    "duration": 755,
    "start_time": "2021-11-22T18:09:54.940Z"
   },
   {
    "duration": 1069,
    "start_time": "2021-11-22T18:09:55.698Z"
   },
   {
    "duration": 442,
    "start_time": "2021-11-22T18:09:56.770Z"
   },
   {
    "duration": 242,
    "start_time": "2021-11-22T18:09:57.215Z"
   },
   {
    "duration": 22,
    "start_time": "2021-11-22T18:09:57.460Z"
   },
   {
    "duration": 14,
    "start_time": "2021-11-22T18:09:57.485Z"
   },
   {
    "duration": 11,
    "start_time": "2021-11-22T18:09:57.502Z"
   },
   {
    "duration": 12,
    "start_time": "2021-11-22T18:09:57.515Z"
   },
   {
    "duration": 9,
    "start_time": "2021-11-22T18:09:57.530Z"
   },
   {
    "duration": 56,
    "start_time": "2021-11-22T18:09:57.542Z"
   },
   {
    "duration": 1194,
    "start_time": "2021-11-22T18:35:51.007Z"
   },
   {
    "duration": 62,
    "start_time": "2021-11-22T18:35:52.203Z"
   },
   {
    "duration": 16,
    "start_time": "2021-11-22T18:35:52.267Z"
   },
   {
    "duration": 12,
    "start_time": "2021-11-22T18:35:52.285Z"
   },
   {
    "duration": 15,
    "start_time": "2021-11-22T18:35:52.298Z"
   },
   {
    "duration": 13,
    "start_time": "2021-11-22T18:35:52.315Z"
   },
   {
    "duration": 27,
    "start_time": "2021-11-22T18:35:52.330Z"
   },
   {
    "duration": 13,
    "start_time": "2021-11-22T18:35:52.361Z"
   },
   {
    "duration": 407,
    "start_time": "2021-11-22T18:35:52.376Z"
   },
   {
    "duration": 340,
    "start_time": "2021-11-22T18:35:52.784Z"
   },
   {
    "duration": 301,
    "start_time": "2021-11-22T18:35:53.125Z"
   },
   {
    "duration": 27,
    "start_time": "2021-11-22T18:35:53.427Z"
   },
   {
    "duration": 529,
    "start_time": "2021-11-22T18:35:53.457Z"
   },
   {
    "duration": 319,
    "start_time": "2021-11-22T18:35:53.988Z"
   },
   {
    "duration": 414,
    "start_time": "2021-11-22T18:35:54.309Z"
   },
   {
    "duration": 434,
    "start_time": "2021-11-22T18:35:54.725Z"
   },
   {
    "duration": 481,
    "start_time": "2021-11-22T18:35:55.161Z"
   },
   {
    "duration": 290,
    "start_time": "2021-11-22T18:35:55.645Z"
   },
   {
    "duration": 145,
    "start_time": "2021-11-22T18:35:55.937Z"
   },
   {
    "duration": 9,
    "start_time": "2021-11-22T18:35:56.084Z"
   },
   {
    "duration": 11,
    "start_time": "2021-11-22T18:35:56.096Z"
   },
   {
    "duration": 9,
    "start_time": "2021-11-22T18:35:56.109Z"
   },
   {
    "duration": 14,
    "start_time": "2021-11-22T18:35:56.148Z"
   },
   {
    "duration": 14,
    "start_time": "2021-11-22T18:35:56.164Z"
   },
   {
    "duration": 14,
    "start_time": "2021-11-22T18:35:56.180Z"
   },
   {
    "duration": 1398,
    "start_time": "2021-11-22T18:37:42.541Z"
   },
   {
    "duration": 68,
    "start_time": "2021-11-22T18:37:43.942Z"
   },
   {
    "duration": 20,
    "start_time": "2021-11-22T18:37:44.013Z"
   },
   {
    "duration": 14,
    "start_time": "2021-11-22T18:37:44.035Z"
   },
   {
    "duration": 14,
    "start_time": "2021-11-22T18:37:44.050Z"
   },
   {
    "duration": 13,
    "start_time": "2021-11-22T18:37:44.065Z"
   },
   {
    "duration": 17,
    "start_time": "2021-11-22T18:37:44.080Z"
   },
   {
    "duration": 10,
    "start_time": "2021-11-22T18:37:44.100Z"
   },
   {
    "duration": 366,
    "start_time": "2021-11-22T18:37:44.112Z"
   },
   {
    "duration": 324,
    "start_time": "2021-11-22T18:37:44.480Z"
   },
   {
    "duration": 293,
    "start_time": "2021-11-22T18:37:44.806Z"
   },
   {
    "duration": 12,
    "start_time": "2021-11-22T18:37:45.100Z"
   },
   {
    "duration": 440,
    "start_time": "2021-11-22T18:37:45.114Z"
   },
   {
    "duration": 305,
    "start_time": "2021-11-22T18:37:45.556Z"
   },
   {
    "duration": 401,
    "start_time": "2021-11-22T18:37:45.863Z"
   },
   {
    "duration": 385,
    "start_time": "2021-11-22T18:37:46.266Z"
   },
   {
    "duration": 495,
    "start_time": "2021-11-22T18:37:46.653Z"
   },
   {
    "duration": 294,
    "start_time": "2021-11-22T18:37:47.150Z"
   },
   {
    "duration": 125,
    "start_time": "2021-11-22T18:37:47.446Z"
   },
   {
    "duration": 325,
    "start_time": "2021-11-22T18:37:47.573Z"
   },
   {
    "duration": -20,
    "start_time": "2021-11-22T18:37:47.920Z"
   },
   {
    "duration": -24,
    "start_time": "2021-11-22T18:37:47.925Z"
   },
   {
    "duration": -25,
    "start_time": "2021-11-22T18:37:47.927Z"
   },
   {
    "duration": -25,
    "start_time": "2021-11-22T18:37:47.929Z"
   },
   {
    "duration": -26,
    "start_time": "2021-11-22T18:37:47.931Z"
   },
   {
    "duration": 1056,
    "start_time": "2021-11-22T18:38:27.590Z"
   },
   {
    "duration": 62,
    "start_time": "2021-11-22T18:38:28.648Z"
   },
   {
    "duration": 12,
    "start_time": "2021-11-22T18:38:28.712Z"
   },
   {
    "duration": 12,
    "start_time": "2021-11-22T18:38:28.726Z"
   },
   {
    "duration": 13,
    "start_time": "2021-11-22T18:38:28.740Z"
   },
   {
    "duration": 13,
    "start_time": "2021-11-22T18:38:28.754Z"
   },
   {
    "duration": 11,
    "start_time": "2021-11-22T18:38:28.769Z"
   },
   {
    "duration": 10,
    "start_time": "2021-11-22T18:38:28.782Z"
   },
   {
    "duration": 351,
    "start_time": "2021-11-22T18:38:28.794Z"
   },
   {
    "duration": 315,
    "start_time": "2021-11-22T18:38:29.147Z"
   },
   {
    "duration": 283,
    "start_time": "2021-11-22T18:38:29.464Z"
   },
   {
    "duration": 11,
    "start_time": "2021-11-22T18:38:29.749Z"
   },
   {
    "duration": 388,
    "start_time": "2021-11-22T18:38:29.762Z"
   },
   {
    "duration": 295,
    "start_time": "2021-11-22T18:38:30.152Z"
   },
   {
    "duration": 391,
    "start_time": "2021-11-22T18:38:30.449Z"
   },
   {
    "duration": 382,
    "start_time": "2021-11-22T18:38:30.842Z"
   },
   {
    "duration": 459,
    "start_time": "2021-11-22T18:38:31.225Z"
   },
   {
    "duration": 260,
    "start_time": "2021-11-22T18:38:31.686Z"
   },
   {
    "duration": 121,
    "start_time": "2021-11-22T18:38:31.948Z"
   },
   {
    "duration": 7,
    "start_time": "2021-11-22T18:38:32.071Z"
   },
   {
    "duration": 8,
    "start_time": "2021-11-22T18:38:32.080Z"
   },
   {
    "duration": 7,
    "start_time": "2021-11-22T18:38:32.090Z"
   },
   {
    "duration": 9,
    "start_time": "2021-11-22T18:38:32.099Z"
   },
   {
    "duration": 11,
    "start_time": "2021-11-22T18:38:32.110Z"
   },
   {
    "duration": 18,
    "start_time": "2021-11-22T18:38:32.145Z"
   },
   {
    "duration": 7,
    "start_time": "2021-11-22T18:50:13.789Z"
   },
   {
    "duration": 321,
    "start_time": "2021-11-22T18:51:22.788Z"
   },
   {
    "duration": 6,
    "start_time": "2021-11-22T18:52:34.989Z"
   },
   {
    "duration": 6,
    "start_time": "2021-11-22T18:55:04.982Z"
   },
   {
    "duration": 8,
    "start_time": "2021-11-22T18:55:37.099Z"
   },
   {
    "duration": 9,
    "start_time": "2021-11-22T18:57:22.850Z"
   },
   {
    "duration": 10,
    "start_time": "2021-11-22T18:57:40.618Z"
   },
   {
    "duration": 1595,
    "start_time": "2021-11-22T18:58:35.000Z"
   },
   {
    "duration": 62,
    "start_time": "2021-11-22T18:58:36.597Z"
   },
   {
    "duration": 20,
    "start_time": "2021-11-22T18:58:36.661Z"
   },
   {
    "duration": 22,
    "start_time": "2021-11-22T18:58:36.683Z"
   },
   {
    "duration": 19,
    "start_time": "2021-11-22T18:58:36.707Z"
   },
   {
    "duration": 10,
    "start_time": "2021-11-22T18:58:36.728Z"
   },
   {
    "duration": 19,
    "start_time": "2021-11-22T18:58:36.740Z"
   },
   {
    "duration": 14,
    "start_time": "2021-11-22T18:58:36.762Z"
   },
   {
    "duration": 36,
    "start_time": "2021-11-22T18:58:36.778Z"
   },
   {
    "duration": 344,
    "start_time": "2021-11-22T18:58:36.815Z"
   },
   {
    "duration": 300,
    "start_time": "2021-11-22T18:58:37.161Z"
   },
   {
    "duration": 375,
    "start_time": "2021-11-22T18:58:37.464Z"
   },
   {
    "duration": 14,
    "start_time": "2021-11-22T18:58:37.843Z"
   },
   {
    "duration": 401,
    "start_time": "2021-11-22T18:58:37.859Z"
   },
   {
    "duration": 299,
    "start_time": "2021-11-22T18:58:38.262Z"
   },
   {
    "duration": 363,
    "start_time": "2021-11-22T18:58:38.563Z"
   },
   {
    "duration": 396,
    "start_time": "2021-11-22T18:58:38.929Z"
   },
   {
    "duration": 633,
    "start_time": "2021-11-22T18:58:39.327Z"
   },
   {
    "duration": 262,
    "start_time": "2021-11-22T18:58:39.962Z"
   },
   {
    "duration": 187,
    "start_time": "2021-11-22T18:58:40.225Z"
   },
   {
    "duration": 10,
    "start_time": "2021-11-22T18:58:40.414Z"
   },
   {
    "duration": 24,
    "start_time": "2021-11-22T18:58:40.426Z"
   },
   {
    "duration": 8,
    "start_time": "2021-11-22T18:58:40.454Z"
   },
   {
    "duration": 8,
    "start_time": "2021-11-22T18:58:40.464Z"
   },
   {
    "duration": 15,
    "start_time": "2021-11-22T18:58:40.474Z"
   },
   {
    "duration": 13,
    "start_time": "2021-11-22T18:58:40.491Z"
   },
   {
    "duration": 1379,
    "start_time": "2021-11-22T18:59:20.107Z"
   },
   {
    "duration": 9,
    "start_time": "2021-11-22T19:02:52.374Z"
   },
   {
    "duration": 8,
    "start_time": "2021-11-22T19:03:04.232Z"
   },
   {
    "duration": 9,
    "start_time": "2021-11-22T19:03:21.812Z"
   },
   {
    "duration": 298,
    "start_time": "2021-11-22T19:03:49.617Z"
   },
   {
    "duration": 8,
    "start_time": "2021-11-22T19:03:53.695Z"
   },
   {
    "duration": 9,
    "start_time": "2021-11-22T19:04:32.755Z"
   },
   {
    "duration": 10,
    "start_time": "2021-11-22T19:04:59.998Z"
   },
   {
    "duration": 10,
    "start_time": "2021-11-22T19:12:31.409Z"
   },
   {
    "duration": 9,
    "start_time": "2021-11-22T19:12:37.770Z"
   },
   {
    "duration": 12,
    "start_time": "2021-11-22T19:13:09.507Z"
   },
   {
    "duration": 17,
    "start_time": "2021-11-22T19:13:19.042Z"
   },
   {
    "duration": 10,
    "start_time": "2021-11-22T19:13:27.763Z"
   },
   {
    "duration": 12,
    "start_time": "2021-11-22T19:15:06.644Z"
   },
   {
    "duration": 13,
    "start_time": "2021-11-22T19:15:26.239Z"
   },
   {
    "duration": 16,
    "start_time": "2021-11-22T19:16:23.673Z"
   },
   {
    "duration": 4,
    "start_time": "2021-11-22T19:16:28.109Z"
   },
   {
    "duration": 12,
    "start_time": "2021-11-22T19:16:32.076Z"
   },
   {
    "duration": 13,
    "start_time": "2021-11-22T19:16:37.731Z"
   },
   {
    "duration": 11,
    "start_time": "2021-11-22T19:26:01.207Z"
   },
   {
    "duration": 990,
    "start_time": "2021-11-22T19:28:17.300Z"
   },
   {
    "duration": 65,
    "start_time": "2021-11-22T19:28:18.291Z"
   },
   {
    "duration": 14,
    "start_time": "2021-11-22T19:28:18.358Z"
   },
   {
    "duration": 11,
    "start_time": "2021-11-22T19:28:18.374Z"
   },
   {
    "duration": 12,
    "start_time": "2021-11-22T19:28:18.386Z"
   },
   {
    "duration": 17,
    "start_time": "2021-11-22T19:28:18.400Z"
   },
   {
    "duration": 34,
    "start_time": "2021-11-22T19:28:18.419Z"
   },
   {
    "duration": 18,
    "start_time": "2021-11-22T19:28:18.457Z"
   },
   {
    "duration": 10,
    "start_time": "2021-11-22T19:28:18.477Z"
   },
   {
    "duration": 377,
    "start_time": "2021-11-22T19:28:18.489Z"
   },
   {
    "duration": 305,
    "start_time": "2021-11-22T19:28:18.869Z"
   },
   {
    "duration": 311,
    "start_time": "2021-11-22T19:28:19.176Z"
   },
   {
    "duration": 11,
    "start_time": "2021-11-22T19:28:19.489Z"
   },
   {
    "duration": 453,
    "start_time": "2021-11-22T19:28:19.502Z"
   },
   {
    "duration": 312,
    "start_time": "2021-11-22T19:28:19.957Z"
   },
   {
    "duration": 398,
    "start_time": "2021-11-22T19:28:20.270Z"
   },
   {
    "duration": 379,
    "start_time": "2021-11-22T19:28:20.670Z"
   },
   {
    "duration": 494,
    "start_time": "2021-11-22T19:28:21.050Z"
   },
   {
    "duration": 272,
    "start_time": "2021-11-22T19:28:21.547Z"
   },
   {
    "duration": 127,
    "start_time": "2021-11-22T19:28:21.820Z"
   },
   {
    "duration": 9,
    "start_time": "2021-11-22T19:28:21.949Z"
   },
   {
    "duration": 14,
    "start_time": "2021-11-22T19:28:21.961Z"
   },
   {
    "duration": 8,
    "start_time": "2021-11-22T19:28:21.978Z"
   },
   {
    "duration": 8,
    "start_time": "2021-11-22T19:28:21.988Z"
   },
   {
    "duration": 8,
    "start_time": "2021-11-22T19:28:21.998Z"
   },
   {
    "duration": 47,
    "start_time": "2021-11-22T19:28:22.008Z"
   },
   {
    "duration": 363,
    "start_time": "2021-11-22T19:29:57.934Z"
   },
   {
    "duration": 533,
    "start_time": "2021-11-22T19:30:40.046Z"
   },
   {
    "duration": 361,
    "start_time": "2021-11-22T19:30:53.384Z"
   },
   {
    "duration": 367,
    "start_time": "2021-11-22T19:31:41.480Z"
   },
   {
    "duration": 759,
    "start_time": "2021-11-22T19:32:38.107Z"
   },
   {
    "duration": 350,
    "start_time": "2021-11-22T19:32:50.901Z"
   },
   {
    "duration": 367,
    "start_time": "2021-11-22T19:34:09.001Z"
   },
   {
    "duration": 15,
    "start_time": "2021-11-22T19:40:58.455Z"
   },
   {
    "duration": 8,
    "start_time": "2021-11-22T19:41:20.800Z"
   },
   {
    "duration": 11,
    "start_time": "2021-11-22T19:41:56.154Z"
   },
   {
    "duration": 8,
    "start_time": "2021-11-22T19:42:02.152Z"
   },
   {
    "duration": 1049,
    "start_time": "2021-11-22T20:18:10.834Z"
   },
   {
    "duration": 60,
    "start_time": "2021-11-22T20:18:11.885Z"
   },
   {
    "duration": 15,
    "start_time": "2021-11-22T20:18:11.949Z"
   },
   {
    "duration": 12,
    "start_time": "2021-11-22T20:18:11.965Z"
   },
   {
    "duration": 13,
    "start_time": "2021-11-22T20:18:11.978Z"
   },
   {
    "duration": 9,
    "start_time": "2021-11-22T20:18:11.992Z"
   },
   {
    "duration": 51,
    "start_time": "2021-11-22T20:18:12.004Z"
   },
   {
    "duration": 12,
    "start_time": "2021-11-22T20:18:12.057Z"
   },
   {
    "duration": 10,
    "start_time": "2021-11-22T20:18:12.071Z"
   },
   {
    "duration": 350,
    "start_time": "2021-11-22T20:18:12.083Z"
   },
   {
    "duration": 355,
    "start_time": "2021-11-22T20:18:12.434Z"
   },
   {
    "duration": 294,
    "start_time": "2021-11-22T20:18:12.790Z"
   },
   {
    "duration": 12,
    "start_time": "2021-11-22T20:18:13.086Z"
   },
   {
    "duration": 385,
    "start_time": "2021-11-22T20:18:13.099Z"
   },
   {
    "duration": 313,
    "start_time": "2021-11-22T20:18:13.486Z"
   },
   {
    "duration": 377,
    "start_time": "2021-11-22T20:18:13.800Z"
   },
   {
    "duration": 351,
    "start_time": "2021-11-22T20:18:14.179Z"
   },
   {
    "duration": 498,
    "start_time": "2021-11-22T20:18:14.532Z"
   },
   {
    "duration": 260,
    "start_time": "2021-11-22T20:18:15.031Z"
   },
   {
    "duration": 117,
    "start_time": "2021-11-22T20:18:15.293Z"
   },
   {
    "duration": 8,
    "start_time": "2021-11-22T20:18:15.412Z"
   },
   {
    "duration": 21,
    "start_time": "2021-11-22T20:18:15.423Z"
   },
   {
    "duration": 8,
    "start_time": "2021-11-22T20:18:15.446Z"
   },
   {
    "duration": 8,
    "start_time": "2021-11-22T20:18:15.456Z"
   },
   {
    "duration": 7,
    "start_time": "2021-11-22T20:18:15.466Z"
   },
   {
    "duration": 12,
    "start_time": "2021-11-22T20:18:15.475Z"
   },
   {
    "duration": 1343,
    "start_time": "2021-11-23T10:19:27.124Z"
   },
   {
    "duration": 62,
    "start_time": "2021-11-23T10:19:28.469Z"
   },
   {
    "duration": 22,
    "start_time": "2021-11-23T10:19:28.534Z"
   },
   {
    "duration": 22,
    "start_time": "2021-11-23T10:19:28.559Z"
   },
   {
    "duration": 26,
    "start_time": "2021-11-23T10:19:28.584Z"
   },
   {
    "duration": 14,
    "start_time": "2021-11-23T10:19:28.613Z"
   },
   {
    "duration": 57,
    "start_time": "2021-11-23T10:19:28.630Z"
   },
   {
    "duration": 16,
    "start_time": "2021-11-23T10:19:28.690Z"
   },
   {
    "duration": 15,
    "start_time": "2021-11-23T10:19:28.708Z"
   },
   {
    "duration": 603,
    "start_time": "2021-11-23T10:19:28.726Z"
   },
   {
    "duration": 605,
    "start_time": "2021-11-23T10:19:29.332Z"
   },
   {
    "duration": 491,
    "start_time": "2021-11-23T10:19:29.940Z"
   },
   {
    "duration": 20,
    "start_time": "2021-11-23T10:19:30.434Z"
   },
   {
    "duration": 591,
    "start_time": "2021-11-23T10:19:30.457Z"
   },
   {
    "duration": 519,
    "start_time": "2021-11-23T10:19:31.051Z"
   },
   {
    "duration": 573,
    "start_time": "2021-11-23T10:19:31.573Z"
   },
   {
    "duration": 591,
    "start_time": "2021-11-23T10:19:32.148Z"
   },
   {
    "duration": 688,
    "start_time": "2021-11-23T10:19:32.741Z"
   },
   {
    "duration": 460,
    "start_time": "2021-11-23T10:19:33.432Z"
   },
   {
    "duration": 229,
    "start_time": "2021-11-23T10:19:33.895Z"
   },
   {
    "duration": 10,
    "start_time": "2021-11-23T10:19:34.126Z"
   },
   {
    "duration": 13,
    "start_time": "2021-11-23T10:19:34.139Z"
   },
   {
    "duration": 36,
    "start_time": "2021-11-23T10:19:34.156Z"
   },
   {
    "duration": 19,
    "start_time": "2021-11-23T10:19:34.196Z"
   },
   {
    "duration": 12,
    "start_time": "2021-11-23T10:19:34.218Z"
   },
   {
    "duration": 22,
    "start_time": "2021-11-23T10:19:34.232Z"
   },
   {
    "duration": 90,
    "start_time": "2021-11-23T17:36:34.612Z"
   },
   {
    "duration": 92,
    "start_time": "2021-11-23T17:38:57.286Z"
   },
   {
    "duration": 1039,
    "start_time": "2021-12-14T13:17:08.503Z"
   },
   {
    "duration": 76,
    "start_time": "2021-12-14T13:17:09.544Z"
   },
   {
    "duration": 14,
    "start_time": "2021-12-14T13:17:09.622Z"
   },
   {
    "duration": 12,
    "start_time": "2021-12-14T13:17:09.638Z"
   },
   {
    "duration": 13,
    "start_time": "2021-12-14T13:17:09.652Z"
   },
   {
    "duration": 10,
    "start_time": "2021-12-14T13:17:09.667Z"
   },
   {
    "duration": 21,
    "start_time": "2021-12-14T13:17:09.678Z"
   },
   {
    "duration": 13,
    "start_time": "2021-12-14T13:17:09.702Z"
   },
   {
    "duration": 11,
    "start_time": "2021-12-14T13:17:09.717Z"
   },
   {
    "duration": 366,
    "start_time": "2021-12-14T13:17:09.729Z"
   },
   {
    "duration": 390,
    "start_time": "2021-12-14T13:17:10.097Z"
   },
   {
    "duration": 295,
    "start_time": "2021-12-14T13:17:10.488Z"
   },
   {
    "duration": 14,
    "start_time": "2021-12-14T13:17:10.785Z"
   },
   {
    "duration": 399,
    "start_time": "2021-12-14T13:17:10.800Z"
   },
   {
    "duration": 325,
    "start_time": "2021-12-14T13:17:11.201Z"
   },
   {
    "duration": 395,
    "start_time": "2021-12-14T13:17:11.528Z"
   },
   {
    "duration": 391,
    "start_time": "2021-12-14T13:17:11.925Z"
   },
   {
    "duration": 487,
    "start_time": "2021-12-14T13:17:12.318Z"
   },
   {
    "duration": 265,
    "start_time": "2021-12-14T13:17:12.807Z"
   },
   {
    "duration": 128,
    "start_time": "2021-12-14T13:17:13.074Z"
   },
   {
    "duration": 7,
    "start_time": "2021-12-14T13:17:13.204Z"
   },
   {
    "duration": 10,
    "start_time": "2021-12-14T13:17:13.212Z"
   },
   {
    "duration": 7,
    "start_time": "2021-12-14T13:17:13.224Z"
   },
   {
    "duration": 9,
    "start_time": "2021-12-14T13:17:13.233Z"
   },
   {
    "duration": 11,
    "start_time": "2021-12-14T13:17:13.244Z"
   },
   {
    "duration": 42,
    "start_time": "2021-12-14T13:17:13.256Z"
   }
  ],
  "kernelspec": {
   "display_name": "Python 3 (ipykernel)",
   "language": "python",
   "name": "python3"
  },
  "language_info": {
   "codemirror_mode": {
    "name": "ipython",
    "version": 3
   },
   "file_extension": ".py",
   "mimetype": "text/x-python",
   "name": "python",
   "nbconvert_exporter": "python",
   "pygments_lexer": "ipython3",
   "version": "3.9.7"
  },
  "toc": {
   "base_numbering": 1,
   "nav_menu": {},
   "number_sections": true,
   "sideBar": true,
   "skip_h1_title": true,
   "title_cell": "Оглавление",
   "title_sidebar": "Contents",
   "toc_cell": true,
   "toc_position": {},
   "toc_section_display": true,
   "toc_window_display": false
  }
 },
 "nbformat": 4,
 "nbformat_minor": 2
}
