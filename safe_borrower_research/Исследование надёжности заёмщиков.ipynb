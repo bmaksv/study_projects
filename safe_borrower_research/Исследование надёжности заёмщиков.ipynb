{
 "cells": [
  {
   "cell_type": "markdown",
   "metadata": {},
   "source": [
    "# Оглавление\n",
    "1. [Открытие данных](#open_data)\n",
    "2. [Предобработка данных](#preprocessing)\n",
    "    * [Обработка пропусков](#null)\n",
    "    * [Замена типа данных](#astype)\n",
    "    * [Обработка дубликатов](#duplicates)\n",
    "    * [Лемматизация](#lemmatize)\n",
    "    * [Категоризация](#categorize)\n",
    "3. [Ответы на вопросы исследования](#answer_the_questions)\n",
    "4. [Общий вывод](#recap)\n",
    "5. [Чек-лист готовности проекта](#check_list)"
   ]
  },
  {
   "cell_type": "markdown",
   "metadata": {},
   "source": [
    "# Исследование надёжности заёмщиков\n",
    "\n",
    "**Заказчик исследования:** кредитный отдел банка.\n",
    "\n",
    "**Задача:** определить, влияет ли семейное положение и количество детей клиента на факт погашения кредита в срок.\n",
    "\n",
    "**Цели:**\n",
    "1. Импортировать данные и ознакомится с ними;\n",
    "2. Провести предобработку данных;\n",
    "3. Проверить гипотезу влияния семейного положения и наличия детей на погашение клиентом кредита в срок.\n",
    "\n",
    "**Входные данные от заказчика:** статистика о платёжеспособности клиентов банка.\n",
    "\n",
    "Результаты исследования будут учтены при построении модели **кредитного скоринга** — специальной системы, которая оценивает способность потенциального заёмщика вернуть кредит банку."
   ]
  },
  {
   "cell_type": "markdown",
   "metadata": {},
   "source": [
    "## Шаг 1. Откройте файл с данными и изучите общую информацию\n",
    "<a id=\"open_data\"></a>"
   ]
  },
  {
   "cell_type": "code",
   "execution_count": 1,
   "metadata": {},
   "outputs": [],
   "source": [
    "#В начале работы над проектом загрузили необходимые библиотеки\n",
    "import pandas as pd\n",
    "from pymystem3 import Mystem\n",
    "m = Mystem()\n",
    "from IPython.display import display\n",
    "import numpy as np"
   ]
  },
  {
   "cell_type": "code",
   "execution_count": 2,
   "metadata": {},
   "outputs": [
    {
     "name": "stdout",
     "output_type": "stream",
     "text": [
      "<class 'pandas.core.frame.DataFrame'>\n",
      "RangeIndex: 21525 entries, 0 to 21524\n",
      "Data columns (total 12 columns):\n",
      "children            21525 non-null int64\n",
      "days_employed       19351 non-null float64\n",
      "dob_years           21525 non-null int64\n",
      "education           21525 non-null object\n",
      "education_id        21525 non-null int64\n",
      "family_status       21525 non-null object\n",
      "family_status_id    21525 non-null int64\n",
      "gender              21525 non-null object\n",
      "income_type         21525 non-null object\n",
      "debt                21525 non-null int64\n",
      "total_income        19351 non-null float64\n",
      "purpose             21525 non-null object\n",
      "dtypes: float64(2), int64(5), object(5)\n",
      "memory usage: 2.0+ MB\n"
     ]
    },
    {
     "data": {
      "text/html": [
       "<div>\n",
       "<style scoped>\n",
       "    .dataframe tbody tr th:only-of-type {\n",
       "        vertical-align: middle;\n",
       "    }\n",
       "\n",
       "    .dataframe tbody tr th {\n",
       "        vertical-align: top;\n",
       "    }\n",
       "\n",
       "    .dataframe thead th {\n",
       "        text-align: right;\n",
       "    }\n",
       "</style>\n",
       "<table border=\"1\" class=\"dataframe\">\n",
       "  <thead>\n",
       "    <tr style=\"text-align: right;\">\n",
       "      <th></th>\n",
       "      <th>children</th>\n",
       "      <th>days_employed</th>\n",
       "      <th>dob_years</th>\n",
       "      <th>education</th>\n",
       "      <th>education_id</th>\n",
       "      <th>family_status</th>\n",
       "      <th>family_status_id</th>\n",
       "      <th>gender</th>\n",
       "      <th>income_type</th>\n",
       "      <th>debt</th>\n",
       "      <th>total_income</th>\n",
       "      <th>purpose</th>\n",
       "    </tr>\n",
       "  </thead>\n",
       "  <tbody>\n",
       "    <tr>\n",
       "      <td>0</td>\n",
       "      <td>1</td>\n",
       "      <td>-8437.673028</td>\n",
       "      <td>42</td>\n",
       "      <td>высшее</td>\n",
       "      <td>0</td>\n",
       "      <td>женат / замужем</td>\n",
       "      <td>0</td>\n",
       "      <td>F</td>\n",
       "      <td>сотрудник</td>\n",
       "      <td>0</td>\n",
       "      <td>253875.639453</td>\n",
       "      <td>покупка жилья</td>\n",
       "    </tr>\n",
       "    <tr>\n",
       "      <td>1</td>\n",
       "      <td>1</td>\n",
       "      <td>-4024.803754</td>\n",
       "      <td>36</td>\n",
       "      <td>среднее</td>\n",
       "      <td>1</td>\n",
       "      <td>женат / замужем</td>\n",
       "      <td>0</td>\n",
       "      <td>F</td>\n",
       "      <td>сотрудник</td>\n",
       "      <td>0</td>\n",
       "      <td>112080.014102</td>\n",
       "      <td>приобретение автомобиля</td>\n",
       "    </tr>\n",
       "    <tr>\n",
       "      <td>2</td>\n",
       "      <td>0</td>\n",
       "      <td>-5623.422610</td>\n",
       "      <td>33</td>\n",
       "      <td>Среднее</td>\n",
       "      <td>1</td>\n",
       "      <td>женат / замужем</td>\n",
       "      <td>0</td>\n",
       "      <td>M</td>\n",
       "      <td>сотрудник</td>\n",
       "      <td>0</td>\n",
       "      <td>145885.952297</td>\n",
       "      <td>покупка жилья</td>\n",
       "    </tr>\n",
       "    <tr>\n",
       "      <td>3</td>\n",
       "      <td>3</td>\n",
       "      <td>-4124.747207</td>\n",
       "      <td>32</td>\n",
       "      <td>среднее</td>\n",
       "      <td>1</td>\n",
       "      <td>женат / замужем</td>\n",
       "      <td>0</td>\n",
       "      <td>M</td>\n",
       "      <td>сотрудник</td>\n",
       "      <td>0</td>\n",
       "      <td>267628.550329</td>\n",
       "      <td>дополнительное образование</td>\n",
       "    </tr>\n",
       "    <tr>\n",
       "      <td>4</td>\n",
       "      <td>0</td>\n",
       "      <td>340266.072047</td>\n",
       "      <td>53</td>\n",
       "      <td>среднее</td>\n",
       "      <td>1</td>\n",
       "      <td>гражданский брак</td>\n",
       "      <td>1</td>\n",
       "      <td>F</td>\n",
       "      <td>пенсионер</td>\n",
       "      <td>0</td>\n",
       "      <td>158616.077870</td>\n",
       "      <td>сыграть свадьбу</td>\n",
       "    </tr>\n",
       "  </tbody>\n",
       "</table>\n",
       "</div>"
      ],
      "text/plain": [
       "   children  days_employed  dob_years education  education_id  \\\n",
       "0         1   -8437.673028         42    высшее             0   \n",
       "1         1   -4024.803754         36   среднее             1   \n",
       "2         0   -5623.422610         33   Среднее             1   \n",
       "3         3   -4124.747207         32   среднее             1   \n",
       "4         0  340266.072047         53   среднее             1   \n",
       "\n",
       "      family_status  family_status_id gender income_type  debt   total_income  \\\n",
       "0   женат / замужем                 0      F   сотрудник     0  253875.639453   \n",
       "1   женат / замужем                 0      F   сотрудник     0  112080.014102   \n",
       "2   женат / замужем                 0      M   сотрудник     0  145885.952297   \n",
       "3   женат / замужем                 0      M   сотрудник     0  267628.550329   \n",
       "4  гражданский брак                 1      F   пенсионер     0  158616.077870   \n",
       "\n",
       "                      purpose  \n",
       "0               покупка жилья  \n",
       "1     приобретение автомобиля  \n",
       "2               покупка жилья  \n",
       "3  дополнительное образование  \n",
       "4             сыграть свадьбу  "
      ]
     },
     "metadata": {},
     "output_type": "display_data"
    }
   ],
   "source": [
    "#Прочитаем исходный файл с данными\n",
    "credit_data = pd.read_csv('/datasets/data.csv')\n",
    "\n",
    "#Изучим общую информацию о данных, оценим типы столбцов и количество пропусков\n",
    "credit_data.info()\n",
    "\n",
    "#Визуально ознакомимся со структурой данных\n",
    "display(credit_data.head())"
   ]
  },
  {
   "cell_type": "markdown",
   "metadata": {},
   "source": [
    "**Вывод**"
   ]
  },
  {
   "cell_type": "markdown",
   "metadata": {},
   "source": [
    "Обращает на себя внимание артефакт – одинаковое число пропусков в столбцах 'days_employed' и 'total_income'. Ещё предстоит работа со столбцом 'days_employed', т.к., согласно информации из описания данных, в нём содержится общий трудовой стаж в днях, но значения там отрицательные и имеются явные ошибки на примере данных из 4 строки."
   ]
  },
  {
   "cell_type": "markdown",
   "metadata": {},
   "source": [
    "## Шаг 2. Предобработка данных\n",
    "<a id=\"preprocessing\"></a>"
   ]
  },
  {
   "cell_type": "markdown",
   "metadata": {},
   "source": [
    "### Обработка пропусков\n",
    "<a id=\"null\"></a>"
   ]
  },
  {
   "cell_type": "markdown",
   "metadata": {},
   "source": [
    "Определим точное количество строк с пропуском общего трудового стажа в днях и убедимся, что строки с отсутствующим значением 'days_employed' это те же строки, где отсутсвует 'total_income' (ежемесячный доход)."
   ]
  },
  {
   "cell_type": "code",
   "execution_count": 3,
   "metadata": {},
   "outputs": [
    {
     "name": "stdout",
     "output_type": "stream",
     "text": [
      "children            2174\n",
      "days_employed          0\n",
      "dob_years           2174\n",
      "education           2174\n",
      "education_id        2174\n",
      "family_status       2174\n",
      "family_status_id    2174\n",
      "gender              2174\n",
      "income_type         2174\n",
      "debt                2174\n",
      "total_income           0\n",
      "purpose             2174\n",
      "dtype: int64\n"
     ]
    }
   ],
   "source": [
    "print(credit_data[credit_data['days_employed'].isnull()].count())"
   ]
  },
  {
   "cell_type": "markdown",
   "metadata": {},
   "source": [
    "Около 10% строк без указания 'days_employed' и 'total_income'. Просто удалить их было бы неправильно, ценных данных много. Оценим визуально, есть ли зависимость пропусков от других столбцов, можно ли попытаться восстановить данные."
   ]
  },
  {
   "cell_type": "code",
   "execution_count": 4,
   "metadata": {},
   "outputs": [
    {
     "data": {
      "text/html": [
       "<div>\n",
       "<style scoped>\n",
       "    .dataframe tbody tr th:only-of-type {\n",
       "        vertical-align: middle;\n",
       "    }\n",
       "\n",
       "    .dataframe tbody tr th {\n",
       "        vertical-align: top;\n",
       "    }\n",
       "\n",
       "    .dataframe thead th {\n",
       "        text-align: right;\n",
       "    }\n",
       "</style>\n",
       "<table border=\"1\" class=\"dataframe\">\n",
       "  <thead>\n",
       "    <tr style=\"text-align: right;\">\n",
       "      <th></th>\n",
       "      <th>children</th>\n",
       "      <th>days_employed</th>\n",
       "      <th>dob_years</th>\n",
       "      <th>education</th>\n",
       "      <th>education_id</th>\n",
       "      <th>family_status</th>\n",
       "      <th>family_status_id</th>\n",
       "      <th>gender</th>\n",
       "      <th>income_type</th>\n",
       "      <th>debt</th>\n",
       "      <th>total_income</th>\n",
       "      <th>purpose</th>\n",
       "    </tr>\n",
       "  </thead>\n",
       "  <tbody>\n",
       "    <tr>\n",
       "      <td>12</td>\n",
       "      <td>0</td>\n",
       "      <td>NaN</td>\n",
       "      <td>65</td>\n",
       "      <td>среднее</td>\n",
       "      <td>1</td>\n",
       "      <td>гражданский брак</td>\n",
       "      <td>1</td>\n",
       "      <td>M</td>\n",
       "      <td>пенсионер</td>\n",
       "      <td>0</td>\n",
       "      <td>NaN</td>\n",
       "      <td>сыграть свадьбу</td>\n",
       "    </tr>\n",
       "    <tr>\n",
       "      <td>26</td>\n",
       "      <td>0</td>\n",
       "      <td>NaN</td>\n",
       "      <td>41</td>\n",
       "      <td>среднее</td>\n",
       "      <td>1</td>\n",
       "      <td>женат / замужем</td>\n",
       "      <td>0</td>\n",
       "      <td>M</td>\n",
       "      <td>госслужащий</td>\n",
       "      <td>0</td>\n",
       "      <td>NaN</td>\n",
       "      <td>образование</td>\n",
       "    </tr>\n",
       "    <tr>\n",
       "      <td>29</td>\n",
       "      <td>0</td>\n",
       "      <td>NaN</td>\n",
       "      <td>63</td>\n",
       "      <td>среднее</td>\n",
       "      <td>1</td>\n",
       "      <td>Не женат / не замужем</td>\n",
       "      <td>4</td>\n",
       "      <td>F</td>\n",
       "      <td>пенсионер</td>\n",
       "      <td>0</td>\n",
       "      <td>NaN</td>\n",
       "      <td>строительство жилой недвижимости</td>\n",
       "    </tr>\n",
       "    <tr>\n",
       "      <td>41</td>\n",
       "      <td>0</td>\n",
       "      <td>NaN</td>\n",
       "      <td>50</td>\n",
       "      <td>среднее</td>\n",
       "      <td>1</td>\n",
       "      <td>женат / замужем</td>\n",
       "      <td>0</td>\n",
       "      <td>F</td>\n",
       "      <td>госслужащий</td>\n",
       "      <td>0</td>\n",
       "      <td>NaN</td>\n",
       "      <td>сделка с подержанным автомобилем</td>\n",
       "    </tr>\n",
       "    <tr>\n",
       "      <td>55</td>\n",
       "      <td>0</td>\n",
       "      <td>NaN</td>\n",
       "      <td>54</td>\n",
       "      <td>среднее</td>\n",
       "      <td>1</td>\n",
       "      <td>гражданский брак</td>\n",
       "      <td>1</td>\n",
       "      <td>F</td>\n",
       "      <td>пенсионер</td>\n",
       "      <td>1</td>\n",
       "      <td>NaN</td>\n",
       "      <td>сыграть свадьбу</td>\n",
       "    </tr>\n",
       "    <tr>\n",
       "      <td>65</td>\n",
       "      <td>0</td>\n",
       "      <td>NaN</td>\n",
       "      <td>21</td>\n",
       "      <td>среднее</td>\n",
       "      <td>1</td>\n",
       "      <td>Не женат / не замужем</td>\n",
       "      <td>4</td>\n",
       "      <td>M</td>\n",
       "      <td>компаньон</td>\n",
       "      <td>0</td>\n",
       "      <td>NaN</td>\n",
       "      <td>операции с коммерческой недвижимостью</td>\n",
       "    </tr>\n",
       "    <tr>\n",
       "      <td>67</td>\n",
       "      <td>0</td>\n",
       "      <td>NaN</td>\n",
       "      <td>52</td>\n",
       "      <td>высшее</td>\n",
       "      <td>0</td>\n",
       "      <td>женат / замужем</td>\n",
       "      <td>0</td>\n",
       "      <td>F</td>\n",
       "      <td>пенсионер</td>\n",
       "      <td>0</td>\n",
       "      <td>NaN</td>\n",
       "      <td>покупка жилья для семьи</td>\n",
       "    </tr>\n",
       "    <tr>\n",
       "      <td>72</td>\n",
       "      <td>1</td>\n",
       "      <td>NaN</td>\n",
       "      <td>32</td>\n",
       "      <td>высшее</td>\n",
       "      <td>0</td>\n",
       "      <td>женат / замужем</td>\n",
       "      <td>0</td>\n",
       "      <td>M</td>\n",
       "      <td>госслужащий</td>\n",
       "      <td>0</td>\n",
       "      <td>NaN</td>\n",
       "      <td>операции с коммерческой недвижимостью</td>\n",
       "    </tr>\n",
       "    <tr>\n",
       "      <td>82</td>\n",
       "      <td>2</td>\n",
       "      <td>NaN</td>\n",
       "      <td>50</td>\n",
       "      <td>высшее</td>\n",
       "      <td>0</td>\n",
       "      <td>женат / замужем</td>\n",
       "      <td>0</td>\n",
       "      <td>F</td>\n",
       "      <td>сотрудник</td>\n",
       "      <td>0</td>\n",
       "      <td>NaN</td>\n",
       "      <td>жилье</td>\n",
       "    </tr>\n",
       "    <tr>\n",
       "      <td>83</td>\n",
       "      <td>0</td>\n",
       "      <td>NaN</td>\n",
       "      <td>52</td>\n",
       "      <td>среднее</td>\n",
       "      <td>1</td>\n",
       "      <td>женат / замужем</td>\n",
       "      <td>0</td>\n",
       "      <td>M</td>\n",
       "      <td>сотрудник</td>\n",
       "      <td>0</td>\n",
       "      <td>NaN</td>\n",
       "      <td>жилье</td>\n",
       "    </tr>\n",
       "  </tbody>\n",
       "</table>\n",
       "</div>"
      ],
      "text/plain": [
       "    children  days_employed  dob_years education  education_id  \\\n",
       "12         0            NaN         65   среднее             1   \n",
       "26         0            NaN         41   среднее             1   \n",
       "29         0            NaN         63   среднее             1   \n",
       "41         0            NaN         50   среднее             1   \n",
       "55         0            NaN         54   среднее             1   \n",
       "65         0            NaN         21   среднее             1   \n",
       "67         0            NaN         52    высшее             0   \n",
       "72         1            NaN         32    высшее             0   \n",
       "82         2            NaN         50    высшее             0   \n",
       "83         0            NaN         52   среднее             1   \n",
       "\n",
       "            family_status  family_status_id gender  income_type  debt  \\\n",
       "12       гражданский брак                 1      M    пенсионер     0   \n",
       "26        женат / замужем                 0      M  госслужащий     0   \n",
       "29  Не женат / не замужем                 4      F    пенсионер     0   \n",
       "41        женат / замужем                 0      F  госслужащий     0   \n",
       "55       гражданский брак                 1      F    пенсионер     1   \n",
       "65  Не женат / не замужем                 4      M    компаньон     0   \n",
       "67        женат / замужем                 0      F    пенсионер     0   \n",
       "72        женат / замужем                 0      M  госслужащий     0   \n",
       "82        женат / замужем                 0      F    сотрудник     0   \n",
       "83        женат / замужем                 0      M    сотрудник     0   \n",
       "\n",
       "    total_income                                purpose  \n",
       "12           NaN                        сыграть свадьбу  \n",
       "26           NaN                            образование  \n",
       "29           NaN       строительство жилой недвижимости  \n",
       "41           NaN       сделка с подержанным автомобилем  \n",
       "55           NaN                        сыграть свадьбу  \n",
       "65           NaN  операции с коммерческой недвижимостью  \n",
       "67           NaN                покупка жилья для семьи  \n",
       "72           NaN  операции с коммерческой недвижимостью  \n",
       "82           NaN                                  жилье  \n",
       "83           NaN                                  жилье  "
      ]
     },
     "metadata": {},
     "output_type": "display_data"
    }
   ],
   "source": [
    "display(credit_data[credit_data['days_employed'].isnull()].head(10))"
   ]
  },
  {
   "cell_type": "markdown",
   "metadata": {},
   "source": [
    "Данные в остальных столбцах имеют обыкновенный разброс. Зависимость пропусков от количества детей, уровня образования, семейного статуса, типа занятости, цели получения кредита или других показателей не наблюдается. Это значит, что выборка с пропусками примерно соответствует данным из остальной таблицы и пропуски можно заменить средним или медианным значением. Поскольку искать зависимость невозврата кредитов от стажа по условию проекта не придётся, то разницы между средним значением и медианой в данном случае нет. Но в выгрузке есть явная ошибка – значения в столбце 'days_employed' либо отрицательные, либо >300 тыс., что в днях  стремится к 1000 лет трудового стажа. Если бы данные из этого столбца были чувствительны для исследования, следовало бы обратиться за новой более точной выгрузкой."
   ]
  },
  {
   "cell_type": "code",
   "execution_count": 5,
   "metadata": {},
   "outputs": [
    {
     "name": "stdout",
     "output_type": "stream",
     "text": [
      "<class 'pandas.core.frame.DataFrame'>\n",
      "RangeIndex: 21525 entries, 0 to 21524\n",
      "Data columns (total 12 columns):\n",
      "children            21525 non-null int64\n",
      "days_employed       21525 non-null float64\n",
      "dob_years           21525 non-null int64\n",
      "education           21525 non-null object\n",
      "education_id        21525 non-null int64\n",
      "family_status       21525 non-null object\n",
      "family_status_id    21525 non-null int64\n",
      "gender              21525 non-null object\n",
      "income_type         21525 non-null object\n",
      "debt                21525 non-null int64\n",
      "total_income        21525 non-null float64\n",
      "purpose             21525 non-null object\n",
      "dtypes: float64(2), int64(5), object(5)\n",
      "memory usage: 2.0+ MB\n"
     ]
    }
   ],
   "source": [
    "credit_data['days_employed'] = credit_data['days_employed'].fillna(credit_data['days_employed'].mean())\n",
    "\n",
    "#В случае с уровлнем дохода медиана точнее показывает средний уровень, поэтому применим её\n",
    "credit_data['total_income'] = credit_data['total_income'].fillna(credit_data['total_income'].median())\n",
    "\n",
    "#запустим метод .info(), чтобы убедится, что пропусков больше нет\n",
    "credit_data.info()"
   ]
  },
  {
   "cell_type": "markdown",
   "metadata": {},
   "source": [
    "**Вывод**"
   ]
  },
  {
   "cell_type": "markdown",
   "metadata": {},
   "source": [
    "В 2174 строках таблицы пропущены данные о стаже и доходе. Возможно, данные \"подтягивались\" из разных источников и в одном из них этих столбцов небыло вовсе. Либо выгружали за несколько раз и в одну из \"волн\" произошла ошибка выгрузки.\n",
    "Помимо пропусков, в столбце 'days_employed' есть логическая ошибка: дней стажа либо больше 800 лет, либо стаж отрицательный. Поскольку в данном исследовании искать зависимость возврата кредита от стажа задачи нет, то это не является проблемой. В противном случае, мы бы пошли за новой выгрузкой.\n",
    "Пропуски в столбце с уровнем дохода мы заменили на медианное значение, так как в данном случае она точнее передаёт среднюю \"температуру по палате\"."
   ]
  },
  {
   "cell_type": "markdown",
   "metadata": {},
   "source": [
    "### Замена типа данных\n",
    "<a id=\"astype\"></a>"
   ]
  },
  {
   "cell_type": "code",
   "execution_count": 6,
   "metadata": {},
   "outputs": [],
   "source": [
    "credit_data['total_income'] = credit_data['total_income'].astype('int')\n",
    "credit_data['days_employed'] = credit_data['days_employed'].astype('int')"
   ]
  },
  {
   "cell_type": "markdown",
   "metadata": {},
   "source": [
    "Изменили вещественный тип данных на целочисленный для простоты дальнейших расчётов. Потерянные отброшенной точкой копейки в столбце дохода не повлияют на точность дальнейших выводов. Стаж заменили на целые числа, чтобы дробная часть не перегружала таблицу. Данный столбец для дальнейших выводов нам не интересен."
   ]
  },
  {
   "cell_type": "code",
   "execution_count": 7,
   "metadata": {},
   "outputs": [],
   "source": [
    "#уровняем Загланые буквы\n",
    "credit_data['education'] = credit_data['education'].str.lower()\n",
    "credit_data['family_status'] = credit_data['family_status'].str.lower()\n",
    "credit_data['gender'] = credit_data['gender'].str.lower()\n",
    "credit_data['income_type'] = credit_data['income_type'].str.lower()\n",
    "credit_data['purpose'] = credit_data['purpose'].str.lower()"
   ]
  },
  {
   "cell_type": "markdown",
   "metadata": {},
   "source": [
    "Уровняли заглавные буквы для простоты работы с дубликатами и для замены столбцов с ограниченным вариантом значений с типа 'object' на тип 'category', так мы сэкономим немного памяти."
   ]
  },
  {
   "cell_type": "code",
   "execution_count": 8,
   "metadata": {},
   "outputs": [],
   "source": [
    "credit_data['education'] = credit_data['education'].astype('category')\n",
    "credit_data['family_status'] = credit_data['family_status'].astype('category')\n",
    "credit_data['income_type'] = credit_data['income_type'].astype('category')\n",
    "credit_data['gender'] = credit_data['gender'].astype('category')"
   ]
  },
  {
   "cell_type": "markdown",
   "metadata": {},
   "source": [
    "Наличие и отсутствие задолженности по возврату кредитов логично было бы заменить на булевы значения."
   ]
  },
  {
   "cell_type": "code",
   "execution_count": 9,
   "metadata": {},
   "outputs": [],
   "source": [
    "credit_data['debt'] = credit_data['debt'].astype('bool')"
   ]
  },
  {
   "cell_type": "markdown",
   "metadata": {},
   "source": [
    "В столбцах 'children', 'dob_years', 'education_id' и 'family_status_id' нет необходимости держать запас символов такой как в int64, поэтому сэкономим на них память, заменив тип на int8."
   ]
  },
  {
   "cell_type": "code",
   "execution_count": 10,
   "metadata": {},
   "outputs": [
    {
     "name": "stdout",
     "output_type": "stream",
     "text": [
      "<class 'pandas.core.frame.DataFrame'>\n",
      "RangeIndex: 21525 entries, 0 to 21524\n",
      "Data columns (total 12 columns):\n",
      "children            21525 non-null int8\n",
      "days_employed       21525 non-null int64\n",
      "dob_years           21525 non-null int8\n",
      "education           21525 non-null category\n",
      "education_id        21525 non-null int8\n",
      "family_status       21525 non-null category\n",
      "family_status_id    21525 non-null int8\n",
      "gender              21525 non-null category\n",
      "income_type         21525 non-null category\n",
      "debt                21525 non-null bool\n",
      "total_income        21525 non-null int64\n",
      "purpose             21525 non-null object\n",
      "dtypes: bool(1), category(4), int64(2), int8(4), object(1)\n",
      "memory usage: 694.7+ KB\n"
     ]
    }
   ],
   "source": [
    "credit_data['children'] = credit_data['children'].astype('int8')\n",
    "credit_data['dob_years'] = credit_data['dob_years'].astype('int8')\n",
    "credit_data['education_id'] = credit_data['education_id'].astype('int8')\n",
    "credit_data['family_status_id'] = credit_data['family_status_id'].astype('int8')\n",
    "\n",
    "credit_data.info()"
   ]
  },
  {
   "cell_type": "code",
   "execution_count": 11,
   "metadata": {},
   "outputs": [
    {
     "name": "stdout",
     "output_type": "stream",
     "text": [
      "Нам удалось сократить использование памяти до 34% от изначальной\n"
     ]
    }
   ],
   "source": [
    "save_memory = 694.7 / 2048\n",
    "print('Нам удалось сократить использование памяти до {:.0%} от изначальной'.format(save_memory))"
   ]
  },
  {
   "cell_type": "markdown",
   "metadata": {},
   "source": [
    "**Вывод**"
   ]
  },
  {
   "cell_type": "markdown",
   "metadata": {},
   "source": [
    "При помощи метода .astype() мы поменяли вещественный тип данных на целочисленный в столбцах с уровнем дохода и стажем. Факт наличия задолженности теперь хранится в таблице как булевы значения. Столбцы с ограниченным вариантом заполнения такие как уровень образования, семейное положение, пол и тип занятости были заменены на тип 'category'. Информация о количестве детей, возрасте, идентификаторы уровня образования и семейного положения не требовали того набора разнообразия в значениях, которое предоставляет тип int64, поэтому они были заменены на int8 без потери данных.\n",
    "Всё это позволило сократить использование памяти при работе с датафреймом на 66%."
   ]
  },
  {
   "cell_type": "markdown",
   "metadata": {},
   "source": [
    "### Обработка дубликатов\n",
    "<a id=\"duplicates\"></a>"
   ]
  },
  {
   "cell_type": "code",
   "execution_count": 12,
   "metadata": {},
   "outputs": [
    {
     "name": "stdout",
     "output_type": "stream",
     "text": [
      "71\n"
     ]
    },
    {
     "data": {
      "text/html": [
       "<div>\n",
       "<style scoped>\n",
       "    .dataframe tbody tr th:only-of-type {\n",
       "        vertical-align: middle;\n",
       "    }\n",
       "\n",
       "    .dataframe tbody tr th {\n",
       "        vertical-align: top;\n",
       "    }\n",
       "\n",
       "    .dataframe thead th {\n",
       "        text-align: right;\n",
       "    }\n",
       "</style>\n",
       "<table border=\"1\" class=\"dataframe\">\n",
       "  <thead>\n",
       "    <tr style=\"text-align: right;\">\n",
       "      <th></th>\n",
       "      <th>children</th>\n",
       "      <th>days_employed</th>\n",
       "      <th>dob_years</th>\n",
       "      <th>education</th>\n",
       "      <th>education_id</th>\n",
       "      <th>family_status</th>\n",
       "      <th>family_status_id</th>\n",
       "      <th>gender</th>\n",
       "      <th>income_type</th>\n",
       "      <th>debt</th>\n",
       "      <th>total_income</th>\n",
       "      <th>purpose</th>\n",
       "    </tr>\n",
       "  </thead>\n",
       "  <tbody>\n",
       "    <tr>\n",
       "      <td>0</td>\n",
       "      <td>1</td>\n",
       "      <td>-8437</td>\n",
       "      <td>42</td>\n",
       "      <td>высшее</td>\n",
       "      <td>0</td>\n",
       "      <td>женат / замужем</td>\n",
       "      <td>0</td>\n",
       "      <td>f</td>\n",
       "      <td>сотрудник</td>\n",
       "      <td>False</td>\n",
       "      <td>253875</td>\n",
       "      <td>покупка жилья</td>\n",
       "    </tr>\n",
       "    <tr>\n",
       "      <td>1</td>\n",
       "      <td>1</td>\n",
       "      <td>-4024</td>\n",
       "      <td>36</td>\n",
       "      <td>среднее</td>\n",
       "      <td>1</td>\n",
       "      <td>женат / замужем</td>\n",
       "      <td>0</td>\n",
       "      <td>f</td>\n",
       "      <td>сотрудник</td>\n",
       "      <td>False</td>\n",
       "      <td>112080</td>\n",
       "      <td>приобретение автомобиля</td>\n",
       "    </tr>\n",
       "    <tr>\n",
       "      <td>2</td>\n",
       "      <td>0</td>\n",
       "      <td>-5623</td>\n",
       "      <td>33</td>\n",
       "      <td>среднее</td>\n",
       "      <td>1</td>\n",
       "      <td>женат / замужем</td>\n",
       "      <td>0</td>\n",
       "      <td>m</td>\n",
       "      <td>сотрудник</td>\n",
       "      <td>False</td>\n",
       "      <td>145885</td>\n",
       "      <td>покупка жилья</td>\n",
       "    </tr>\n",
       "    <tr>\n",
       "      <td>3</td>\n",
       "      <td>3</td>\n",
       "      <td>-4124</td>\n",
       "      <td>32</td>\n",
       "      <td>среднее</td>\n",
       "      <td>1</td>\n",
       "      <td>женат / замужем</td>\n",
       "      <td>0</td>\n",
       "      <td>m</td>\n",
       "      <td>сотрудник</td>\n",
       "      <td>False</td>\n",
       "      <td>267628</td>\n",
       "      <td>дополнительное образование</td>\n",
       "    </tr>\n",
       "    <tr>\n",
       "      <td>4</td>\n",
       "      <td>0</td>\n",
       "      <td>340266</td>\n",
       "      <td>53</td>\n",
       "      <td>среднее</td>\n",
       "      <td>1</td>\n",
       "      <td>гражданский брак</td>\n",
       "      <td>1</td>\n",
       "      <td>f</td>\n",
       "      <td>пенсионер</td>\n",
       "      <td>False</td>\n",
       "      <td>158616</td>\n",
       "      <td>сыграть свадьбу</td>\n",
       "    </tr>\n",
       "    <tr>\n",
       "      <td>...</td>\n",
       "      <td>...</td>\n",
       "      <td>...</td>\n",
       "      <td>...</td>\n",
       "      <td>...</td>\n",
       "      <td>...</td>\n",
       "      <td>...</td>\n",
       "      <td>...</td>\n",
       "      <td>...</td>\n",
       "      <td>...</td>\n",
       "      <td>...</td>\n",
       "      <td>...</td>\n",
       "      <td>...</td>\n",
       "    </tr>\n",
       "    <tr>\n",
       "      <td>21449</td>\n",
       "      <td>1</td>\n",
       "      <td>-4529</td>\n",
       "      <td>43</td>\n",
       "      <td>среднее</td>\n",
       "      <td>1</td>\n",
       "      <td>гражданский брак</td>\n",
       "      <td>1</td>\n",
       "      <td>f</td>\n",
       "      <td>компаньон</td>\n",
       "      <td>False</td>\n",
       "      <td>224791</td>\n",
       "      <td>операции с жильем</td>\n",
       "    </tr>\n",
       "    <tr>\n",
       "      <td>21450</td>\n",
       "      <td>0</td>\n",
       "      <td>343937</td>\n",
       "      <td>67</td>\n",
       "      <td>среднее</td>\n",
       "      <td>1</td>\n",
       "      <td>женат / замужем</td>\n",
       "      <td>0</td>\n",
       "      <td>f</td>\n",
       "      <td>пенсионер</td>\n",
       "      <td>False</td>\n",
       "      <td>155999</td>\n",
       "      <td>сделка с автомобилем</td>\n",
       "    </tr>\n",
       "    <tr>\n",
       "      <td>21451</td>\n",
       "      <td>1</td>\n",
       "      <td>-2113</td>\n",
       "      <td>38</td>\n",
       "      <td>среднее</td>\n",
       "      <td>1</td>\n",
       "      <td>гражданский брак</td>\n",
       "      <td>1</td>\n",
       "      <td>m</td>\n",
       "      <td>сотрудник</td>\n",
       "      <td>True</td>\n",
       "      <td>89672</td>\n",
       "      <td>недвижимость</td>\n",
       "    </tr>\n",
       "    <tr>\n",
       "      <td>21452</td>\n",
       "      <td>3</td>\n",
       "      <td>-3112</td>\n",
       "      <td>38</td>\n",
       "      <td>среднее</td>\n",
       "      <td>1</td>\n",
       "      <td>женат / замужем</td>\n",
       "      <td>0</td>\n",
       "      <td>m</td>\n",
       "      <td>сотрудник</td>\n",
       "      <td>True</td>\n",
       "      <td>244093</td>\n",
       "      <td>на покупку своего автомобиля</td>\n",
       "    </tr>\n",
       "    <tr>\n",
       "      <td>21453</td>\n",
       "      <td>2</td>\n",
       "      <td>-1984</td>\n",
       "      <td>40</td>\n",
       "      <td>среднее</td>\n",
       "      <td>1</td>\n",
       "      <td>женат / замужем</td>\n",
       "      <td>0</td>\n",
       "      <td>f</td>\n",
       "      <td>сотрудник</td>\n",
       "      <td>False</td>\n",
       "      <td>82047</td>\n",
       "      <td>на покупку автомобиля</td>\n",
       "    </tr>\n",
       "  </tbody>\n",
       "</table>\n",
       "<p>21454 rows × 12 columns</p>\n",
       "</div>"
      ],
      "text/plain": [
       "       children  days_employed  dob_years education  education_id  \\\n",
       "0             1          -8437         42    высшее             0   \n",
       "1             1          -4024         36   среднее             1   \n",
       "2             0          -5623         33   среднее             1   \n",
       "3             3          -4124         32   среднее             1   \n",
       "4             0         340266         53   среднее             1   \n",
       "...         ...            ...        ...       ...           ...   \n",
       "21449         1          -4529         43   среднее             1   \n",
       "21450         0         343937         67   среднее             1   \n",
       "21451         1          -2113         38   среднее             1   \n",
       "21452         3          -3112         38   среднее             1   \n",
       "21453         2          -1984         40   среднее             1   \n",
       "\n",
       "          family_status  family_status_id gender income_type   debt  \\\n",
       "0       женат / замужем                 0      f   сотрудник  False   \n",
       "1       женат / замужем                 0      f   сотрудник  False   \n",
       "2       женат / замужем                 0      m   сотрудник  False   \n",
       "3       женат / замужем                 0      m   сотрудник  False   \n",
       "4      гражданский брак                 1      f   пенсионер  False   \n",
       "...                 ...               ...    ...         ...    ...   \n",
       "21449  гражданский брак                 1      f   компаньон  False   \n",
       "21450   женат / замужем                 0      f   пенсионер  False   \n",
       "21451  гражданский брак                 1      m   сотрудник   True   \n",
       "21452   женат / замужем                 0      m   сотрудник   True   \n",
       "21453   женат / замужем                 0      f   сотрудник  False   \n",
       "\n",
       "       total_income                       purpose  \n",
       "0            253875                 покупка жилья  \n",
       "1            112080       приобретение автомобиля  \n",
       "2            145885                 покупка жилья  \n",
       "3            267628    дополнительное образование  \n",
       "4            158616               сыграть свадьбу  \n",
       "...             ...                           ...  \n",
       "21449        224791             операции с жильем  \n",
       "21450        155999          сделка с автомобилем  \n",
       "21451         89672                  недвижимость  \n",
       "21452        244093  на покупку своего автомобиля  \n",
       "21453         82047         на покупку автомобиля  \n",
       "\n",
       "[21454 rows x 12 columns]"
      ]
     },
     "execution_count": 12,
     "metadata": {},
     "output_type": "execute_result"
    }
   ],
   "source": [
    "#Узнаем количество дубликатов\n",
    "print(credit_data.duplicated().sum())\n",
    "\n",
    "#71 дубль – немного для таблицы из 21,5 тыс. строк. Удалим их\n",
    "credit_data.drop_duplicates().reset_index(drop = True)"
   ]
  },
  {
   "cell_type": "markdown",
   "metadata": {},
   "source": [
    "**Вывод**"
   ]
  },
  {
   "cell_type": "markdown",
   "metadata": {},
   "source": [
    "В датафрейме обнаружено 71 дубликат. Обнаружили их методом для обнаружения дубликатов и их подсчёта .duplicated().sum(), выбрали его, так как убедились в его работоспособности при работе на тренажёре.\n",
    "Статистически, дубликаты могли возникнуть после присвоения одинаковых значений пропускам в столбцах стажа и дохода, либо потенциальные заёмщики подавали по несколько заявок на кредит и данные дублировались."
   ]
  },
  {
   "cell_type": "markdown",
   "metadata": {},
   "source": [
    "### Лемматизация\n",
    "<a id=\"lemmatize\"></a>"
   ]
  },
  {
   "cell_type": "code",
   "execution_count": 13,
   "metadata": {},
   "outputs": [
    {
     "name": "stdout",
     "output_type": "stream",
     "text": [
      "свадьба                                   797\n",
      "на проведение свадьбы                     777\n",
      "сыграть свадьбу                           774\n",
      "операции с недвижимостью                  676\n",
      "покупка коммерческой недвижимости         664\n",
      "покупка жилья для сдачи                   653\n",
      "операции с жильем                         653\n",
      "операции с коммерческой недвижимостью     651\n",
      "покупка жилья                             647\n",
      "жилье                                     647\n",
      "покупка жилья для семьи                   641\n",
      "строительство собственной недвижимости    635\n",
      "недвижимость                              634\n",
      "операции со своей недвижимостью           630\n",
      "строительство жилой недвижимости          626\n",
      "покупка недвижимости                      624\n",
      "строительство недвижимости                620\n",
      "покупка своего жилья                      620\n",
      "ремонт жилью                              612\n",
      "покупка жилой недвижимости                607\n",
      "на покупку своего автомобиля              505\n",
      "заняться высшим образованием              496\n",
      "автомобиль                                495\n",
      "сделка с подержанным автомобилем          489\n",
      "свой автомобиль                           480\n",
      "на покупку подержанного автомобиля        479\n",
      "автомобили                                478\n",
      "на покупку автомобиля                     472\n",
      "приобретение автомобиля                   462\n",
      "дополнительное образование                462\n",
      "сделка с автомобилем                      455\n",
      "высшее образование                        453\n",
      "образование                               447\n",
      "получение дополнительного образования     447\n",
      "получение образования                     443\n",
      "профильное образование                    436\n",
      "получение высшего образования             426\n",
      "заняться образованием                     412\n",
      "Name: purpose, dtype: int64\n"
     ]
    }
   ],
   "source": [
    "#Оценим разнообразие целей получения кредитов\n",
    "print(credit_data['purpose'].value_counts())"
   ]
  },
  {
   "cell_type": "markdown",
   "metadata": {},
   "source": [
    "Свадьба, жильё/недвижимость/ремонт, образование, автомобиль. Если бы составители анкеты-опросника потрудились с чекбоксами, а не оставили открытое поле, можно было бы сократить время заполнения 21,5 тыс. анкет и обойтись без лемматизации. Погнали"
   ]
  },
  {
   "cell_type": "code",
   "execution_count": 14,
   "metadata": {},
   "outputs": [],
   "source": [
    "def lem_ka(row):\n",
    "    lem_code = m.lemmatize(row['purpose'])\n",
    "    if 'автомобиль' in lem_code:\n",
    "        return 'автомобиль'\n",
    "    if 'свадьба' in lem_code:\n",
    "        return 'свадьба'\n",
    "    if 'жилье' in lem_code:\n",
    "        return 'недвижимость'\n",
    "    if 'недвижимость' in lem_code:\n",
    "        return 'недвижимость'\n",
    "    if 'образование' in lem_code:\n",
    "        return 'образование'\n",
    "\n",
    "#Добавим столбец с лемматизированным поводом получения кредита\n",
    "credit_data['lem_code'] = credit_data.apply(lem_ka, axis = 1)"
   ]
  },
  {
   "cell_type": "markdown",
   "metadata": {},
   "source": [
    "**Вывод**"
   ]
  },
  {
   "cell_type": "markdown",
   "metadata": {},
   "source": [
    "Визуально оценили ограниченный список поводов для получения кредита из выборки. Сгруппировали основные потребности заёмщиков до 4х категорий и добавили лемматизированный столбец для дальнейшего исследования."
   ]
  },
  {
   "cell_type": "markdown",
   "metadata": {},
   "source": [
    "### Категоризация данных\n",
    "<a id=\"categorize\"></a>"
   ]
  },
  {
   "cell_type": "code",
   "execution_count": 15,
   "metadata": {},
   "outputs": [
    {
     "data": {
      "text/html": [
       "<div>\n",
       "<style scoped>\n",
       "    .dataframe tbody tr th:only-of-type {\n",
       "        vertical-align: middle;\n",
       "    }\n",
       "\n",
       "    .dataframe tbody tr th {\n",
       "        vertical-align: top;\n",
       "    }\n",
       "\n",
       "    .dataframe thead th {\n",
       "        text-align: right;\n",
       "    }\n",
       "</style>\n",
       "<table border=\"1\" class=\"dataframe\">\n",
       "  <thead>\n",
       "    <tr style=\"text-align: right;\">\n",
       "      <th></th>\n",
       "      <th>education</th>\n",
       "      <th>education_id</th>\n",
       "    </tr>\n",
       "  </thead>\n",
       "  <tbody>\n",
       "    <tr>\n",
       "      <td>0</td>\n",
       "      <td>высшее</td>\n",
       "      <td>0</td>\n",
       "    </tr>\n",
       "    <tr>\n",
       "      <td>1</td>\n",
       "      <td>среднее</td>\n",
       "      <td>1</td>\n",
       "    </tr>\n",
       "    <tr>\n",
       "      <td>2</td>\n",
       "      <td>неоконченное высшее</td>\n",
       "      <td>2</td>\n",
       "    </tr>\n",
       "    <tr>\n",
       "      <td>3</td>\n",
       "      <td>начальное</td>\n",
       "      <td>3</td>\n",
       "    </tr>\n",
       "    <tr>\n",
       "      <td>4</td>\n",
       "      <td>ученая степень</td>\n",
       "      <td>4</td>\n",
       "    </tr>\n",
       "  </tbody>\n",
       "</table>\n",
       "</div>"
      ],
      "text/plain": [
       "             education  education_id\n",
       "0               высшее             0\n",
       "1              среднее             1\n",
       "2  неоконченное высшее             2\n",
       "3            начальное             3\n",
       "4       ученая степень             4"
      ]
     },
     "metadata": {},
     "output_type": "display_data"
    },
    {
     "data": {
      "text/html": [
       "<div>\n",
       "<style scoped>\n",
       "    .dataframe tbody tr th:only-of-type {\n",
       "        vertical-align: middle;\n",
       "    }\n",
       "\n",
       "    .dataframe tbody tr th {\n",
       "        vertical-align: top;\n",
       "    }\n",
       "\n",
       "    .dataframe thead th {\n",
       "        text-align: right;\n",
       "    }\n",
       "</style>\n",
       "<table border=\"1\" class=\"dataframe\">\n",
       "  <thead>\n",
       "    <tr style=\"text-align: right;\">\n",
       "      <th></th>\n",
       "      <th>family_status</th>\n",
       "      <th>family_status_id</th>\n",
       "    </tr>\n",
       "  </thead>\n",
       "  <tbody>\n",
       "    <tr>\n",
       "      <td>0</td>\n",
       "      <td>женат / замужем</td>\n",
       "      <td>0</td>\n",
       "    </tr>\n",
       "    <tr>\n",
       "      <td>1</td>\n",
       "      <td>гражданский брак</td>\n",
       "      <td>1</td>\n",
       "    </tr>\n",
       "    <tr>\n",
       "      <td>2</td>\n",
       "      <td>вдовец / вдова</td>\n",
       "      <td>2</td>\n",
       "    </tr>\n",
       "    <tr>\n",
       "      <td>3</td>\n",
       "      <td>в разводе</td>\n",
       "      <td>3</td>\n",
       "    </tr>\n",
       "    <tr>\n",
       "      <td>4</td>\n",
       "      <td>не женат / не замужем</td>\n",
       "      <td>4</td>\n",
       "    </tr>\n",
       "  </tbody>\n",
       "</table>\n",
       "</div>"
      ],
      "text/plain": [
       "           family_status  family_status_id\n",
       "0        женат / замужем                 0\n",
       "1       гражданский брак                 1\n",
       "2         вдовец / вдова                 2\n",
       "3              в разводе                 3\n",
       "4  не женат / не замужем                 4"
      ]
     },
     "metadata": {},
     "output_type": "display_data"
    }
   ],
   "source": [
    "#Займёмся словарями\n",
    "education_dict = credit_data[['education', 'education_id']].drop_duplicates().reset_index(drop = True)\n",
    "family_status_dict = credit_data[['family_status', 'family_status_id']].drop_duplicates().reset_index(drop = True)\n",
    "\n",
    "#Распечатаем словари для простоты дальнейшей работы\n",
    "display(education_dict)\n",
    "display(family_status_dict)"
   ]
  },
  {
   "cell_type": "code",
   "execution_count": 16,
   "metadata": {},
   "outputs": [],
   "source": [
    "#Категоризируем клиентов по уровню дохода\n",
    "def income_lvl(row):\n",
    "    if row['total_income'] < 125000:\n",
    "        return 'низкий'\n",
    "    if row['total_income'] <= 170000:\n",
    "        return 'средний'\n",
    "    if row['total_income'] > 170000:\n",
    "        return 'высокий'\n",
    "\n",
    "#Разыграем функцию\n",
    "credit_data['category_lvl_income'] = credit_data.apply(income_lvl, axis = 1)"
   ]
  },
  {
   "cell_type": "markdown",
   "metadata": {},
   "source": [
    "Методом подбора определили примерные рубежи в 125 и 170 тыс. руб., которые разделяют уровни дохода респондентов на 3 ±равные части. После чего написали функцию, которая присваивает категорию уровня дохода для простоты дальнейшего исследования."
   ]
  },
  {
   "cell_type": "code",
   "execution_count": 17,
   "metadata": {},
   "outputs": [
    {
     "name": "stdout",
     "output_type": "stream",
     "text": [
      " 0     14149\n",
      " 1      4818\n",
      " 2      2055\n",
      " 3       330\n",
      " 20       76\n",
      "-1        47\n",
      " 4        41\n",
      " 5         9\n",
      "Name: children, dtype: int64\n"
     ]
    }
   ],
   "source": [
    "print(credit_data['children'].value_counts())"
   ]
  },
  {
   "cell_type": "markdown",
   "metadata": {},
   "source": [
    "Устраним атрефакты в столбце 'children': методом .value_counts() узнаём, что присутствуют нелогичные и выдающиеся показатели -1 (47 строк) и 20 (76 строк). Удалять строки и терять ценные данные не хотелось бы. Предположим, что произошла ошибка при заполнении или выгрузке данных и верным следует считать 1 и 2, соответственно. Заодно сразу же категоризируем данные о количестве детей в семье заёмщиков на 3 группы: нет детей, один ребёнок, два и более детей в семье."
   ]
  },
  {
   "cell_type": "code",
   "execution_count": 18,
   "metadata": {
    "scrolled": true
   },
   "outputs": [],
   "source": [
    "def correct_children(row):\n",
    "    if row['children'] == 0:\n",
    "        return 'нет детей'\n",
    "    if row['children'] == 1:\n",
    "        return 'один ребёнок'\n",
    "    if row['children'] == -1:\n",
    "        return 'один ребёнок'\n",
    "    if row['children'] == 2:\n",
    "        return 'два и более'\n",
    "    if row['children'] == 20:\n",
    "        return 'два и более'\n",
    "    if row['children'] == 3:\n",
    "        return 'два и более'\n",
    "    if row['children'] == 4:\n",
    "        return 'два и более'\n",
    "    if row['children'] == 5:\n",
    "        return 'два и более'\n",
    "    \n",
    "credit_data['children_cor'] = credit_data.apply(correct_children, axis = 1)"
   ]
  },
  {
   "cell_type": "code",
   "execution_count": 19,
   "metadata": {},
   "outputs": [
    {
     "data": {
      "text/html": [
       "<div>\n",
       "<style scoped>\n",
       "    .dataframe tbody tr th:only-of-type {\n",
       "        vertical-align: middle;\n",
       "    }\n",
       "\n",
       "    .dataframe tbody tr th {\n",
       "        vertical-align: top;\n",
       "    }\n",
       "\n",
       "    .dataframe thead th {\n",
       "        text-align: right;\n",
       "    }\n",
       "</style>\n",
       "<table border=\"1\" class=\"dataframe\">\n",
       "  <thead>\n",
       "    <tr style=\"text-align: right;\">\n",
       "      <th></th>\n",
       "      <th>children_cor</th>\n",
       "      <th>family_status_id</th>\n",
       "      <th>category_lvl_income</th>\n",
       "      <th>lem_code</th>\n",
       "      <th>debt</th>\n",
       "    </tr>\n",
       "  </thead>\n",
       "  <tbody>\n",
       "    <tr>\n",
       "      <td>0</td>\n",
       "      <td>один ребёнок</td>\n",
       "      <td>0</td>\n",
       "      <td>высокий</td>\n",
       "      <td>недвижимость</td>\n",
       "      <td>False</td>\n",
       "    </tr>\n",
       "    <tr>\n",
       "      <td>1</td>\n",
       "      <td>один ребёнок</td>\n",
       "      <td>0</td>\n",
       "      <td>низкий</td>\n",
       "      <td>автомобиль</td>\n",
       "      <td>False</td>\n",
       "    </tr>\n",
       "    <tr>\n",
       "      <td>2</td>\n",
       "      <td>нет детей</td>\n",
       "      <td>0</td>\n",
       "      <td>средний</td>\n",
       "      <td>недвижимость</td>\n",
       "      <td>False</td>\n",
       "    </tr>\n",
       "    <tr>\n",
       "      <td>3</td>\n",
       "      <td>два и более</td>\n",
       "      <td>0</td>\n",
       "      <td>высокий</td>\n",
       "      <td>образование</td>\n",
       "      <td>False</td>\n",
       "    </tr>\n",
       "    <tr>\n",
       "      <td>4</td>\n",
       "      <td>нет детей</td>\n",
       "      <td>1</td>\n",
       "      <td>средний</td>\n",
       "      <td>свадьба</td>\n",
       "      <td>False</td>\n",
       "    </tr>\n",
       "  </tbody>\n",
       "</table>\n",
       "</div>"
      ],
      "text/plain": [
       "   children_cor  family_status_id category_lvl_income      lem_code   debt\n",
       "0  один ребёнок                 0             высокий  недвижимость  False\n",
       "1  один ребёнок                 0              низкий    автомобиль  False\n",
       "2     нет детей                 0             средний  недвижимость  False\n",
       "3   два и более                 0             высокий   образование  False\n",
       "4     нет детей                 1             средний       свадьба  False"
      ]
     },
     "metadata": {},
     "output_type": "display_data"
    }
   ],
   "source": [
    "#Определим необходиме столбцы для финального анализа\n",
    "credit_data_fin = credit_data[['children_cor', 'family_status_id', 'category_lvl_income', 'lem_code', 'debt']]\n",
    "\n",
    "#Разделим итоговую таблицу на 2 части по признаку наличия/отсутствия задолженности\n",
    "credit_data_fin_debtor = credit_data_fin[credit_data_fin['debt'] == 1]\n",
    "credit_data_fin_trustworthy = credit_data_fin[credit_data_fin['debt'] == 0]\n",
    "\n",
    "#А так же проверим, что в итоговой таблице есть все необходимые данные для выводов\n",
    "display(credit_data_fin.head())"
   ]
  },
  {
   "cell_type": "markdown",
   "metadata": {},
   "source": [
    "**Вывод**"
   ]
  },
  {
   "cell_type": "markdown",
   "metadata": {},
   "source": [
    "Выделили 2 словаря: с уровнем образования (на всякий случай) и с семейным положением (он поможет считать выводы).\n",
    "Категоризировали данные с уровнем дохода, подбирая по 1/3 выборки методом credit_data[credit_data['total_income'] </> n] для простоты дальнейших выводов в части влияния уровня дохода на возврат кредита в срок.\n",
    "На этом же шаге устранили артефакты в столбце 'children', заменив значения на предположительно корректные.\n",
    "В итоговую таблицу добавили необходимые для анализа столбцы, а так же разделили её на 2 части по признаку наличия/отсутствия задолженности, чтобы на следующем шаге сравнивать сводные показатели первой и второй таблиц."
   ]
  },
  {
   "cell_type": "markdown",
   "metadata": {},
   "source": [
    "## Шаг 3. Ответьте на вопросы\n",
    "<a id=\"answer_the_questions\"></a>"
   ]
  },
  {
   "cell_type": "markdown",
   "metadata": {},
   "source": [
    "- Есть ли зависимость между наличием детей и возвратом кредита в срок?"
   ]
  },
  {
   "cell_type": "code",
   "execution_count": 20,
   "metadata": {},
   "outputs": [
    {
     "name": "stdout",
     "output_type": "stream",
     "text": [
      "Доля заёмщиков, имевших задолженность по возврату кредитов составляет 8.09%\n",
      "\n",
      "Среди благонадёжных заёмщиков нет детей у 66.14% выборки, а среди должников – 61.06%\n",
      "Среди благонадёжных заёмщиков один ребёнок у 22.34% выборки, а среди должников – 25.56%\n",
      "Среди благонадёжных заёмщиков 2 и более детей у 11.51% выборки, а среди должников – 13.38%\n"
     ]
    }
   ],
   "source": [
    "#Определим общую долю людей с просрочкой по кредиту\n",
    "debtor_ratio = len(credit_data_fin_debtor) / len(credit_data_fin)\n",
    "print('Доля заёмщиков, имевших задолженность по возврату кредитов составляет {:.2%}'.format(debtor_ratio))\n",
    "\n",
    "print()\n",
    "\n",
    "#Выведем на информацию для анализа зависимости наличия детей и своевременным возвратом кредита\n",
    "print('Среди благонадёжных заёмщиков нет детей у {:.2%}'.format(len(credit_data_fin_trustworthy[credit_data_fin_trustworthy['children_cor'] == 'нет детей']) / len(credit_data_fin_trustworthy)), 'выборки, а среди должников – {:.2%}'.format(len(credit_data_fin_debtor[credit_data_fin_debtor['children_cor'] == 'нет детей']) / len(credit_data_fin_debtor)))\n",
    "print('Среди благонадёжных заёмщиков один ребёнок у {:.2%}'.format(len(credit_data_fin_trustworthy[credit_data_fin_trustworthy['children_cor'] == 'один ребёнок']) / len(credit_data_fin_trustworthy)), 'выборки, а среди должников – {:.2%}'.format(len(credit_data_fin_debtor[credit_data_fin_debtor['children_cor'] == 'один ребёнок']) / len(credit_data_fin_debtor)))\n",
    "print('Среди благонадёжных заёмщиков 2 и более детей у {:.2%}'.format(len(credit_data_fin_trustworthy[credit_data_fin_trustworthy['children_cor'] == 'два и более']) / len(credit_data_fin_trustworthy)), 'выборки, а среди должников – {:.2%}'.format(len(credit_data_fin_debtor[credit_data_fin_debtor['children_cor'] == 'два и более']) / len(credit_data_fin_debtor)))\n"
   ]
  },
  {
   "cell_type": "markdown",
   "metadata": {},
   "source": [
    "**Вывод**"
   ]
  },
  {
   "cell_type": "markdown",
   "metadata": {},
   "source": [
    "Заёмщики без детей с бОльшей вероятностью вернут кредит вовремя, соответственно, наличие детей увеличивает вероятность просочки по кредиту."
   ]
  },
  {
   "cell_type": "markdown",
   "metadata": {},
   "source": [
    "- Есть ли зависимость между семейным положением и возвратом кредита в срок?"
   ]
  },
  {
   "cell_type": "code",
   "execution_count": 21,
   "metadata": {},
   "outputs": [
    {
     "name": "stdout",
     "output_type": "stream",
     "text": [
      "Среди благонадёжных заёмщиков семейное положение женат / замужем у 57.87% , среди должников – 53.48%\n",
      "Среди благонадёжных заёмщиков семейное положение в гражданском браке у 19.15% , среди должников – 22.29%\n",
      "Среди благонадёжных заёмщиков семейное положение вдовец / вдова у 4.53% , среди должников – 3.62%\n",
      "Среди благонадёжных заёмщиков семейное положение в разводе у 5.61% , среди должников – 4.88%\n",
      "Среди благонадёжных заёмщиков семейное положение не женат / не замужем у 12.83% , среди должников – 15.74%\n"
     ]
    }
   ],
   "source": [
    "print('Среди благонадёжных заёмщиков семейное положение женат / замужем у {:.2%}'.format(len(credit_data_fin_trustworthy[credit_data_fin_trustworthy['family_status_id'] == 0]) / len(credit_data_fin_trustworthy)), ', среди должников – {:.2%}'.format(len(credit_data_fin_debtor[credit_data_fin_debtor['family_status_id'] == 0]) / len(credit_data_fin_debtor)))\n",
    "print('Среди благонадёжных заёмщиков семейное положение в гражданском браке у {:.2%}'.format(len(credit_data_fin_trustworthy[credit_data_fin_trustworthy['family_status_id'] == 1]) / len(credit_data_fin_trustworthy)), ', среди должников – {:.2%}'.format(len(credit_data_fin_debtor[credit_data_fin_debtor['family_status_id'] == 1]) / len(credit_data_fin_debtor)))\n",
    "print('Среди благонадёжных заёмщиков семейное положение вдовец / вдова у {:.2%}'.format(len(credit_data_fin_trustworthy[credit_data_fin_trustworthy['family_status_id'] == 2]) / len(credit_data_fin_trustworthy)), ', среди должников – {:.2%}'.format(len(credit_data_fin_debtor[credit_data_fin_debtor['family_status_id'] == 2]) / len(credit_data_fin_debtor)))\n",
    "print('Среди благонадёжных заёмщиков семейное положение в разводе у {:.2%}'.format(len(credit_data_fin_trustworthy[credit_data_fin_trustworthy['family_status_id'] == 3]) / len(credit_data_fin_trustworthy)), ', среди должников – {:.2%}'.format(len(credit_data_fin_debtor[credit_data_fin_debtor['family_status_id'] == 3]) / len(credit_data_fin_debtor)))\n",
    "print('Среди благонадёжных заёмщиков семейное положение не женат / не замужем у {:.2%}'.format(len(credit_data_fin_trustworthy[credit_data_fin_trustworthy['family_status_id'] == 4]) / len(credit_data_fin_trustworthy)), ', среди должников – {:.2%}'.format(len(credit_data_fin_debtor[credit_data_fin_debtor['family_status_id'] == 4]) / len(credit_data_fin_debtor)))\n"
   ]
  },
  {
   "cell_type": "markdown",
   "metadata": {},
   "source": [
    "**Вывод**"
   ]
  },
  {
   "cell_type": "markdown",
   "metadata": {},
   "source": [
    "Женатые / замужние чеще своевременно возвращают средства, чем имеют просрочку. Среди живущих в гражданском браке больше должников, чем благонадёжных заёмщиков. В случае с вдовцами / вдовами и людьми в разводе не наблюдается зависимости. Среди не женатых / не замужних больше вероятность задолженности платежей."
   ]
  },
  {
   "cell_type": "markdown",
   "metadata": {},
   "source": [
    "- Есть ли зависимость между уровнем дохода и возвратом кредита в срок?"
   ]
  },
  {
   "cell_type": "code",
   "execution_count": 22,
   "metadata": {},
   "outputs": [
    {
     "name": "stdout",
     "output_type": "stream",
     "text": [
      "Без просрочки и с низким уровнем дохода 34.17% с просрочкой – 34.92%\n",
      "Без просрочки и с средним уровнем дохода 32.12% с просрочкой – 33.66%\n",
      "Без просрочки и с высоким уровнем дохода 33.71% с просрочкой – 31.42%\n"
     ]
    }
   ],
   "source": [
    "print('Без просрочки и с низким уровнем дохода {:.2%}'.format(len(credit_data_fin_trustworthy[credit_data_fin_trustworthy['category_lvl_income'] == 'низкий']) / len(credit_data_fin_trustworthy)), 'с просрочкой – {:.2%}'.format(len(credit_data_fin_debtor[credit_data_fin_debtor['category_lvl_income'] == 'низкий']) / len(credit_data_fin_debtor)))\n",
    "print('Без просрочки и с средним уровнем дохода {:.2%}'.format(len(credit_data_fin_trustworthy[credit_data_fin_trustworthy['category_lvl_income'] == 'средний']) / len(credit_data_fin_trustworthy)), 'с просрочкой – {:.2%}'.format(len(credit_data_fin_debtor[credit_data_fin_debtor['category_lvl_income'] == 'средний']) / len(credit_data_fin_debtor)))\n",
    "print('Без просрочки и с высоким уровнем дохода {:.2%}'.format(len(credit_data_fin_trustworthy[credit_data_fin_trustworthy['category_lvl_income'] == 'высокий']) / len(credit_data_fin_trustworthy)), 'с просрочкой – {:.2%}'.format(len(credit_data_fin_debtor[credit_data_fin_debtor['category_lvl_income'] == 'высокий']) / len(credit_data_fin_debtor)))\n"
   ]
  },
  {
   "cell_type": "markdown",
   "metadata": {},
   "source": [
    "**Вывод**"
   ]
  },
  {
   "cell_type": "markdown",
   "metadata": {},
   "source": [
    "Уровень дохода не влияет на своевременный возврат кредита."
   ]
  },
  {
   "cell_type": "markdown",
   "metadata": {},
   "source": [
    "- Как разные цели кредита влияют на его возврат в срок?"
   ]
  },
  {
   "cell_type": "code",
   "execution_count": 23,
   "metadata": {},
   "outputs": [
    {
     "name": "stdout",
     "output_type": "stream",
     "text": [
      "На свадьбу без просрочки 10.93% с просрочкой – 10.68%\n",
      "На жильё без просрочки 50.84% с просрочкой – 44.92%\n",
      "На авто без просрочки 19.77% с просрочкой – 23.15%\n",
      "На образование без просрочки 18.46% с просрочкой – 21.25%\n"
     ]
    }
   ],
   "source": [
    "print('На свадьбу без просрочки {:.2%}'.format(len(credit_data_fin_trustworthy[credit_data_fin_trustworthy['lem_code'] == 'свадьба']) / len(credit_data_fin_trustworthy)), 'с просрочкой – {:.2%}'.format(len(credit_data_fin_debtor[credit_data_fin_debtor['lem_code'] == 'свадьба']) / len(credit_data_fin_debtor)))\n",
    "print('На жильё без просрочки {:.2%}'.format(len(credit_data_fin_trustworthy[credit_data_fin_trustworthy['lem_code'] == 'недвижимость']) / len(credit_data_fin_trustworthy)), 'с просрочкой – {:.2%}'.format(len(credit_data_fin_debtor[credit_data_fin_debtor['lem_code'] == 'недвижимость']) / len(credit_data_fin_debtor)))\n",
    "print('На авто без просрочки {:.2%}'.format(len(credit_data_fin_trustworthy[credit_data_fin_trustworthy['lem_code'] == 'автомобиль']) / len(credit_data_fin_trustworthy)), 'с просрочкой – {:.2%}'.format(len(credit_data_fin_debtor[credit_data_fin_debtor['lem_code'] == 'автомобиль']) / len(credit_data_fin_debtor)))\n",
    "print('На образование без просрочки {:.2%}'.format(len(credit_data_fin_trustworthy[credit_data_fin_trustworthy['lem_code'] == 'образование']) / len(credit_data_fin_trustworthy)), 'с просрочкой – {:.2%}'.format(len(credit_data_fin_debtor[credit_data_fin_debtor['lem_code'] == 'образование']) / len(credit_data_fin_debtor)))\n"
   ]
  },
  {
   "cell_type": "markdown",
   "metadata": {},
   "source": [
    "**Вывод**"
   ]
  },
  {
   "cell_type": "markdown",
   "metadata": {},
   "source": [
    "Кредиты на недвижимость чаще платят вовремя, а по платежам за автомобиль и образование имеют задолженности чуть чаще, но явной зависимости возврата кредита в срок от цели не обнаружено."
   ]
  },
  {
   "cell_type": "markdown",
   "metadata": {},
   "source": [
    "## Шаг 4. Общий вывод\n",
    "<a id=\"recap\"></a>"
   ]
  },
  {
   "cell_type": "markdown",
   "metadata": {},
   "source": [
    "Для исследования мы получили таблицу с данными о клиентах банка. Мы знали: стаж, уровень дохода, пол и возраст, количество детей в семье, тип занятости клиента, уровень образования, цель получения кредита и факт наличия задолженности по возврату кредита. Часть данных была пропущенна или некорректна: *при очередных выгрузках из того же источника советуем сразу же обратить внимание на столбцы со стажем и уровнем дохода.*\n",
    "\n",
    "На предварительном этапе мы:\n",
    "- заполнили пропуски в данных;\n",
    "- нашли несколько артефактов и (чувствительные для результатов исследования значения в столбце с количеством детей скорректировали, пол 'XNA' игнорировали, т.к. на выводы это не повлияет);\n",
    "- заменили типы данных, чем сэкономили 66% используемой датафреймом памяти;\n",
    "- удалили дубликаты, чтобы не потерять в качестве выводов;\n",
    "- лемматизировали цели получения кредитов;\n",
    "- категоризировали выборку по цели получения кредита, уровню дохода и количеству детей в семье.\n",
    "\n",
    "Интересно, что 8% заёмщиков когда-либо имели задолженность по возврату кредита. Влияние различных факторов на наличие задолженности рапределилось следующим образом:\n",
    "1. **Наличие детей.** Среди клиентов без задолженности по возврату кредитов не имеют детей 66%, один ребёнок у 22%, два и более у 12% клиентов, тогда как среди клиентов, имеющих задолженность не имеют детей 61%, один ребёнок у 26%, два и более детей у 13% клиентов. *Наличие детей повышает вероятность возникновения задолженности по возврату кредитов на 5%.*\n",
    "2. **Семейное положение.** Доля благонадёжных заёмщиков, состоящих в официальном браке на 4% больше, чем должников с таким же семейным положением. Состоящих в гражданском браке или не женатых клиентов на 3% больше с задолженностью, чем без неё. Разница среди вдовцов и разведённых несущественная. *Официальный брак увеличивает вероятность своевременного возврата кредита.*\n",
    "3. **Уровень дохода.** Клиентов с низким уровнем дохода по 34% как среди имеющих, так и среди неимеющих задолженность по кредиту. Клиентов со средним уровнем дохода на 1,5% больше среди имеющих задолженность. Тогда как клиентов с высоким уровнем дохода больше среди благонадёжных заёмщиков. Корреляции не наблюдается и разница в процентах невелика. *Уровень дохода не влияет на вероятность возникновения задолженности по возврату кредита.*\n",
    "4. **Цели получения кредита.** Доля клиентов, получавших кредит на свадьбу по 10% как среди вовремя выплачивавших, так и среди имевших задолженность. Среди тех, кто платил вовремя, на недвижимость кредит брали 51%, а среди имевших задолженность – 45%. Среди должников, на 3% чаще встречаются те, кто брал кредит на автомобиль и на образование. *Риск возникновения задолженности выше у тех заёмщиков, которые получают кредит на покупку автомобиля и на получение образования. Кредиты на недвижимость чаще выплачивают вовремя.*"
   ]
  },
  {
   "cell_type": "markdown",
   "metadata": {},
   "source": [
    "### Совет\n",
    "При построении модели кредитного скорринга стоит повышать риск клиентам, которые:\n",
    "- имеют детей;\n",
    "- состоят в гражданском браке или не женаты / не замужем;\n",
    "- берут кредит для покупки автомобиля или получения образования."
   ]
  }
 ],
 "metadata": {
  "kernelspec": {
   "display_name": "Python 3 (ipykernel)",
   "language": "python",
   "name": "python3"
  },
  "language_info": {
   "codemirror_mode": {
    "name": "ipython",
    "version": 3
   },
   "file_extension": ".py",
   "mimetype": "text/x-python",
   "name": "python",
   "nbconvert_exporter": "python",
   "pygments_lexer": "ipython3",
   "version": "3.9.7"
  },
  "toc": {
   "base_numbering": 1,
   "nav_menu": {},
   "number_sections": true,
   "sideBar": true,
   "skip_h1_title": true,
   "title_cell": "Оглавление",
   "title_sidebar": "Contents",
   "toc_cell": true,
   "toc_position": {},
   "toc_section_display": true,
   "toc_window_display": false
  }
 },
 "nbformat": 4,
 "nbformat_minor": 2
}
